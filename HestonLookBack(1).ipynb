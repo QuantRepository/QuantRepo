{
  "nbformat": 4,
  "nbformat_minor": 0,
  "metadata": {
    "colab": {
      "provenance": []
    },
    "kernelspec": {
      "name": "python3",
      "display_name": "Python 3"
    },
    "language_info": {
      "name": "python"
    }
  },
  "cells": [
    {
      "cell_type": "markdown",
      "source": [
        "# Monte Carlo Simulation of Heston Model for discretely monitored fixed strike lookback call option using multiple variance reduction techniques (antithetic variate/control variate) and calibration\n",
        "\n",
        "Scroll down to see comparisons for error reduction and computation time\n"
      ],
      "metadata": {
        "id": "Bups31j1Y2ac"
      }
    },
    {
      "cell_type": "code",
      "execution_count": 30,
      "metadata": {
        "id": "KHAVPrFYnNgf"
      },
      "outputs": [],
      "source": [
        "# Import dependencies\n",
        "import time\n",
        "import numpy as np\n",
        "import pandas as pd\n",
        "from scipy.stats import norm\n",
        "from scipy.linalg import cholesky\n",
        "from datetime import datetime\n",
        "import matplotlib.pyplot as plt"
      ]
    },
    {
      "cell_type": "code",
      "source": [
        "# Initialise parameters\n",
        "S0 = 100.0     # initial stock price\n",
        "K = 100        # strike price\n",
        "T = 1.0        # time to maturity in years\n",
        "r = 0.06       # annual risk-free rate\n",
        "vol = 0.20     # volatility (%)\n",
        "div = 0.03     # continuous dividend yield\n",
        "\n",
        "# Heston parameters\n",
        "kappa = 5.0\n",
        "vt0 = vol**2    # variance\n",
        "theta = 0.2**2\n",
        "sigma = 0.02\n",
        "rho_scalar = -0.7\n",
        "rho = np.array([[1,rho_scalar],\n",
        "                [rho_scalar,1]])  # correlation between stoch proc\n",
        "\n",
        "\n",
        "# fast steps\n",
        "N = 52      # number of time intervals\n",
        "M = 1000    # number of simulations"
      ],
      "metadata": {
        "id": "zhur-FFgng2r"
      },
      "execution_count": 31,
      "outputs": []
    },
    {
      "cell_type": "markdown",
      "source": [
        "# Regular Heston"
      ],
      "metadata": {
        "id": "I5D1OfSPorKQ"
      }
    },
    {
      "cell_type": "code",
      "source": [
        "# Start Timer\n",
        "start_time = time.time()\n",
        "\n",
        "# Precompute constants\n",
        "dt = T/N\n",
        "\n",
        "# Heston model adjustments for time steps\n",
        "kappadt = kappa*dt\n",
        "sigmasdt = sigma*np.sqrt(dt)\n",
        "\n",
        "\n",
        "# Generate Wiener variables\n",
        "Z = np.random.normal(size=(N+1,M,2))\n",
        "#W_ind = np.random.normal(size=(N_tot+1,M,1))\n",
        "#W = Z @ lower_chol\n",
        "W = rho_scalar*Z[:,:,0] + np.sqrt(1-rho_scalar**2)*Z[:,:,1]\n",
        "\n",
        "# arrays for storing prices and variances\n",
        "St = np.full(shape=(N+1,M), fill_value=S0)\n",
        "vt = np.full(shape=(N+1,M), fill_value=vt0)\n",
        "\n",
        "# array for storing maximum's\n",
        "St_max = np.full(shape=(M), fill_value=S0)\n",
        "\n",
        "for j in range(1,N+1):\n",
        "\n",
        "    # Simulate variance processes\n",
        "    vt[j] = vt[j-1] + kappadt*(theta - vt[j-1]) + sigmasdt*np.sqrt(vt[j-1])*Z[j-1,:,0]\n",
        "\n",
        "    # Simulate log asset prices\n",
        "    nudt = (r - div - 0.5*vt[j])*dt\n",
        "    St[j] = St[j-1]*np.exp( nudt + np.sqrt(vt[j]*dt)*W[j-1,:] )\n",
        "\n",
        "    mask = np.where(St[j] > St_max)\n",
        "    St_max[mask] = St[j][mask]\n",
        "\n",
        "# Compute Expectation and SE\n",
        "CT = np.maximum(0, St_max - K)\n",
        "C0_fast = np.exp(-r*T)*np.sum(CT)/M\n",
        "\n",
        "SE_fast = np.sqrt( np.sum( (np.exp(-r*T)*CT - C0_fast)**2) / (M-1) ) /np.sqrt(M)\n",
        "\n",
        "time_comp_fast = round(time.time() - start_time,4)\n",
        "print(\"Call value is ${0} with SE +/- {1}\".format(np.round(C0_fast,2),np.round(SE_fast,2)))\n",
        "print(\"Computation time is: \", time_comp_fast)"
      ],
      "metadata": {
        "colab": {
          "base_uri": "https://localhost:8080/"
        },
        "id": "3Fv1RtppqpYN",
        "outputId": "7792e067-6315-49ce-a079-e86cee715db6"
      },
      "execution_count": 32,
      "outputs": [
        {
          "output_type": "stream",
          "name": "stdout",
          "text": [
            "Call value is $16.69 with SE +/- 0.46\n",
            "Computation time is:  0.0074\n"
          ]
        }
      ]
    },
    {
      "cell_type": "markdown",
      "source": [
        "# With antithetic variates for underlying"
      ],
      "metadata": {
        "id": "7qbuSp98of1t"
      }
    },
    {
      "cell_type": "code",
      "source": [
        "# Start Timer\n",
        "start_time = time.time()\n",
        "\n",
        "# Precompute constants\n",
        "dt = T/N\n",
        "\n",
        "# Heston model adjustments for time steps\n",
        "kappadt = kappa*dt\n",
        "sigmasdt = sigma*np.sqrt(dt)\n",
        "\n",
        "\n",
        "# Generate Wiener variables\n",
        "Z = np.random.normal(size=(N+1,M,2))\n",
        "#W_ind = np.random.normal(size=(N_tot+1,M,1))\n",
        "#W = Z @ lower_chol\n",
        "W1 = rho_scalar*Z[:,:,0] + np.sqrt(1-rho_scalar**2)*Z[:,:,1]\n",
        "W2 = rho_scalar*Z[:,:,0] - np.sqrt(1-rho_scalar**2)*Z[:,:,1]\n",
        "\n",
        "# arrays for storing prices and variances\n",
        "St1 = np.full(shape=(N+1,M), fill_value=S0)\n",
        "St2 = np.full(shape=(N+1,M), fill_value=S0)\n",
        "vt = np.full(shape=(N+1,M), fill_value=vt0)\n",
        "\n",
        "# array for storing maximum's\n",
        "St1_max = np.full(shape=(M), fill_value=S0)\n",
        "St2_max = np.full(shape=(M), fill_value=S0)\n",
        "\n",
        "for j in range(1,N+1):\n",
        "\n",
        "    # Simulate variance processes\n",
        "    vt[j] = vt[j-1] + kappadt*(theta - vt[j-1]) + sigmasdt*np.sqrt(vt[j-1])*Z[j-1,:,0]\n",
        "\n",
        "    # Simulate log asset prices\n",
        "    nudt = (r - div - 0.5*vt[j])*dt\n",
        "    St1[j] = St1[j-1]*np.exp( nudt + np.sqrt(vt[j]*dt)*W1[j-1,:] )\n",
        "    St2[j] = St2[j-1]*np.exp( nudt + np.sqrt(vt[j]*dt)*W2[j-1,:] )\n",
        "\n",
        "    mask1 = np.where(St1[j] > St1_max)\n",
        "    mask2 = np.where(St2[j] > St2_max)\n",
        "    St1_max[mask1] = St1[j][mask1]\n",
        "    St2_max[mask2] = St2[j][mask2]\n",
        "\n",
        "# Compute Expectation and SE\n",
        "CT = 0.5 * ( np.maximum(0, St1_max - K) + np.maximum(0, St2_max - K) )\n",
        "C0_av = np.exp(-r*T)*np.sum(CT)/M\n",
        "\n",
        "SE_av = np.sqrt( np.sum( (np.exp(-r*T)*CT - C0_av)**2) / (M-1) ) /np.sqrt(M)\n",
        "\n",
        "time_comp_av = round(time.time() - start_time,4)\n",
        "print(\"Call value is ${0} with SE +/- {1}\".format(np.round(C0_av,2),np.round(SE_av,2)))\n",
        "print(\"Calculation time: {0} sec\".format(time_comp_av))"
      ],
      "metadata": {
        "colab": {
          "base_uri": "https://localhost:8080/"
        },
        "id": "XZtpaUKrnyMz",
        "outputId": "3b93fc57-239e-4649-ea51-682bc619bef5"
      },
      "execution_count": 44,
      "outputs": [
        {
          "output_type": "stream",
          "name": "stdout",
          "text": [
            "Call value is $15.16 with SE +/- 0.31\n",
            "Calculation time: 0.0106 sec\n"
          ]
        }
      ]
    },
    {
      "cell_type": "markdown",
      "source": [
        "## With antithetic variates for underlying and variance"
      ],
      "metadata": {
        "id": "WfmQI7GGrfY8"
      }
    },
    {
      "cell_type": "code",
      "source": [
        "# Start Timer\n",
        "start_time = time.time()\n",
        "\n",
        "# Precompute constants\n",
        "dt = T/N\n",
        "\n",
        "# Heston model adjustments for time steps\n",
        "kappadt = kappa*dt\n",
        "sigmasdt = sigma*np.sqrt(dt)\n",
        "\n",
        "# Generate Wiener variables\n",
        "Z = np.random.normal(size=(N+1,M,2))\n",
        "#W_ind = np.random.normal(size=(N_tot+1,M,1))\n",
        "#W = Z @ lower_chol\n",
        "W1 = rho_scalar*Z[:,:,0] + np.sqrt(1-rho_scalar**2)*Z[:,:,1]\n",
        "W2 = rho_scalar*Z[:,:,0] - np.sqrt(1-rho_scalar**2)*Z[:,:,1]\n",
        "W3 = -rho_scalar*Z[:,:,0] + np.sqrt(1-rho_scalar**2)*Z[:,:,1]\n",
        "W4 = -rho_scalar*Z[:,:,0] - np.sqrt(1-rho_scalar**2)*Z[:,:,1]\n",
        "\n",
        "# arrays for storing prices and variances\n",
        "St1 = np.full(shape=(N+1,M), fill_value=S0)\n",
        "St2 = np.full(shape=(N+1,M), fill_value=S0)\n",
        "St3 = np.full(shape=(N+1,M), fill_value=S0)\n",
        "St4 = np.full(shape=(N+1,M), fill_value=S0)\n",
        "vt1 = np.full(shape=(N+1,M), fill_value=vt0)\n",
        "vt2 = np.full(shape=(N+1,M), fill_value=vt0)\n",
        "\n",
        "# array for storing maximum's\n",
        "St1_max = np.full(shape=(M), fill_value=S0)\n",
        "St2_max = np.full(shape=(M), fill_value=S0)\n",
        "St3_max = np.full(shape=(M), fill_value=S0)\n",
        "St4_max = np.full(shape=(M), fill_value=S0)\n",
        "\n",
        "for j in range(1,N+1):\n",
        "\n",
        "    # Simulate variance processes\n",
        "    vt1[j] = vt1[j-1] + kappadt*(theta - vt1[j-1]) + sigmasdt*np.sqrt(vt1[j-1])*Z[j-1,:,0]\n",
        "    vt2[j] = vt2[j-1] + kappadt*(theta - vt2[j-1]) - sigmasdt*np.sqrt(vt2[j-1])*Z[j-1,:,0]\n",
        "\n",
        "    # Simulate log asset prices\n",
        "    nudt1 = (r - div - 0.5*vt1[j])*dt\n",
        "    nudt2 = (r - div - 0.5*vt2[j])*dt\n",
        "    St1[j] = St1[j-1]*np.exp( nudt1 + np.sqrt(vt1[j]*dt)*W1[j-1,:] )\n",
        "    St2[j] = St2[j-1]*np.exp( nudt1 + np.sqrt(vt1[j]*dt)*W2[j-1,:] )\n",
        "    St3[j] = St3[j-1]*np.exp( nudt2 + np.sqrt(vt2[j]*dt)*W3[j-1,:] )\n",
        "    St4[j] = St4[j-1]*np.exp( nudt2 + np.sqrt(vt2[j]*dt)*W4[j-1,:] )\n",
        "\n",
        "    mask1 = np.where(St1[j] > St1_max)\n",
        "    mask2 = np.where(St2[j] > St2_max)\n",
        "    mask3 = np.where(St3[j] > St3_max)\n",
        "    mask4 = np.where(St4[j] > St4_max)\n",
        "    St1_max[mask1] = St1[j][mask1]\n",
        "    St2_max[mask2] = St2[j][mask2]\n",
        "    St3_max[mask3] = St3[j][mask3]\n",
        "    St4_max[mask4] = St4[j][mask4]\n",
        "\n",
        "# Compute Expectation and SE\n",
        "CT = 0.25 * ( np.maximum(0, St1_max - K) + np.maximum(0, St2_max - K) + np.maximum(0, St3_max - K) + np.maximum(0, St3_max - K))\n",
        "C0_av_double = np.exp(-r*T)*np.sum(CT)/M\n",
        "\n",
        "SE_av_double = np.sqrt( np.sum( (np.exp(-r*T)*CT - C0_av)**2) / (M-1) ) /np.sqrt(M)\n",
        "\n",
        "time_comp_av_double = round(time.time() - start_time,4)\n",
        "print(\"Call value is ${0} with SE +/- {1}\".format(np.round(C0_av_double,2),np.round(SE_av_double,2)))\n",
        "print(\"Calculation time: {0} sec\".format(time_comp_av_double))"
      ],
      "metadata": {
        "colab": {
          "base_uri": "https://localhost:8080/"
        },
        "id": "n5RqIq8_o9_s",
        "outputId": "bf87a70d-3c39-4f53-83fb-9c71adbd3327"
      },
      "execution_count": 34,
      "outputs": [
        {
          "output_type": "stream",
          "name": "stdout",
          "text": [
            "Call value is $15.8 with SE +/- 0.22\n",
            "Calculation time: 0.0152 sec\n"
          ]
        }
      ]
    },
    {
      "cell_type": "markdown",
      "source": [],
      "metadata": {
        "id": "Wcv9jEZLbEWq"
      }
    },
    {
      "cell_type": "markdown",
      "source": [
        "# Include control variates base on analytical solution continuous observations"
      ],
      "metadata": {
        "id": "tEHwn-h-GSYi"
      }
    },
    {
      "cell_type": "markdown",
      "source": [
        "Analytical solution continuous observations using finite differences\n",
        "\n",
        "\\begin{equation}\n",
        "   C_{FSLC} = G + Se^{-\\delta T} N(x + \\sigma \\sqrt{T}) - K e ^{-r T} N(x) - \\frac{S}{B} \\left(e^{-rT} \\left(\\frac{E}{S}\\right)^B N(x+(1-B)\\sigma \\sqrt{T})-e^{-\\delta T} N(x + \\sigma \\sqrt{T})\\right),\n",
        "\\end{equation}\n",
        "with\n",
        "\\begin{align}\n",
        "B &= \\frac{2(r-\\delta)}{\\sigma^2} \\\\\n",
        "x &= \\frac{ln(\\frac{S}{E}+\\left( (r - \\delta) - \\frac{1}{2}\\sigma^2 \\right) T}{\\sigma \\sqrt{T}} \\\\\n",
        "if K\\geq M &→ E = K, G = 0 \\\\\n",
        "else &\\rightarrow E = M, G = e^{-rt}(M-K)\n",
        "\\end{align}\n"
      ],
      "metadata": {
        "id": "CZc7dV09yCap"
      }
    },
    {
      "cell_type": "code",
      "source": [
        "class fixed_strike_lookback_call:\n",
        "    def __init__(self, r, S, K, T, M, vol, div=0):\n",
        "        self.r = r\n",
        "        self.S = S\n",
        "        self.K = K\n",
        "        self.T = T\n",
        "        self.M = M\n",
        "        self.vol = vol\n",
        "        self.div = div\n",
        "\n",
        "    def option_price_vectorized(self):\n",
        "        \"Calculate fixed strike lookback call price of call/put\"\n",
        "        E = np.where(self.K < self.M, self.M, self.K)\n",
        "        G = np.where(self.K < self.M, np.exp(-self.r*self.T)*(self.M-self.K), 0)\n",
        "\n",
        "        x = (np.log(self.S/E) + ((self.r-self.div) - self.vol**2/2)*self.T)/(self.vol*np.sqrt(self.T))\n",
        "        B = 2*(self.r-self.div)/(self.vol**2)\n",
        "\n",
        "        price = G + self.S*np.exp(-self.div*T)*norm.cdf(x+self.vol*np.sqrt(self.T), 0, 1) \\\n",
        "        - self.K*np.exp(-self.r*self.T)*norm.cdf(x) \\\n",
        "        - self.S/B*(np.exp(-self.r*self.T)*(E/self.S)**B * norm.cdf(x+(1-B)*self.vol*np.sqrt(self.T)) \\\n",
        "        - np.exp(-self.div*self.T)*norm.cdf(x+self.vol*np.sqrt(self.T), 0, 1))\n",
        "\n",
        "        return price\n",
        "\n",
        "    def option_price_fd(self, S, vol):\n",
        "        \"Calculate fixed strike lookback call price of call/put\"\n",
        "        if self.K < self.M:\n",
        "            E = self.M\n",
        "            G = np.exp(-self.r*self.T)*(self.M-self.K)\n",
        "        else:\n",
        "            E = self.K\n",
        "            G = 0\n",
        "        x = (np.log(S/E) + ((self.r-self.div) - vol**2/2)*self.T)/(vol*np.sqrt(self.T))\n",
        "        B = 2*(self.r-self.div)/(vol**2)\n",
        "\n",
        "        price = G + S*np.exp(-self.div*T)*norm.cdf(x+vol*np.sqrt(self.T), 0, 1) \\\n",
        "        - self.K*np.exp(-self.r*self.T)*norm.cdf(x) \\\n",
        "        - S/B*(np.exp(-self.r*self.T)*(E/S)**B * norm.cdf(x+(1-B)*vol*np.sqrt(self.T)) \\\n",
        "        - np.exp(-self.div*self.T)*norm.cdf(x+vol*np.sqrt(self.T), 0, 1))\n",
        "\n",
        "        return price\n",
        "\n",
        "    def option_price_fd_vectorized(self, S, vol):\n",
        "        \"Calculate fixed strike lookback call price of call/put\"\n",
        "        E = np.where(self.K < self.M, self.M, self.K)\n",
        "        G = np.where(self.K < self.M, np.exp(-self.r*self.T)*(self.M-self.K), 0)\n",
        "\n",
        "        x = (np.log(S/E) + ((self.r-self.div) - vol**2/2)*self.T)/(vol*np.sqrt(self.T))\n",
        "        B = 2*(self.r-self.div)/(vol**2)\n",
        "\n",
        "        price = G + S*np.exp(-self.div*T)*norm.cdf(x+vol*np.sqrt(self.T), 0, 1) \\\n",
        "        - self.K*np.exp(-self.r*self.T)*norm.cdf(x) \\\n",
        "        - S/B*(np.exp(-self.r*self.T)*(E/S)**B * norm.cdf(x+(1-B)*vol*np.sqrt(self.T)) \\\n",
        "        - np.exp(-self.div*self.T)*norm.cdf(x+vol*np.sqrt(self.T), 0, 1))\n",
        "\n",
        "        return price\n",
        "\n",
        "    def FD_S(self, S):\n",
        "        vol = self.vol\n",
        "        return self.option_price_fd_vectorized(S, vol)\n",
        "\n",
        "    def FD_vol(self, vol):\n",
        "        S = self.S\n",
        "        return self.option_price_fd_vectorized(S, vol)\n",
        "\n",
        "    def delta_fd(self, delta=0.001):\n",
        "        deltaS = delta*self.S\n",
        "        return (self.FD_S(self.S+deltaS)-self.FD_S(self.S-deltaS)) / (2*deltaS)\n",
        "\n",
        "    def gamma_fd(self, delta=0.001):\n",
        "        deltaS = delta*self.S\n",
        "        return (self.FD_S(self.S+deltaS)-2*self.FD_S(self.S)+self.FD_S(self.S-deltaS)) / (deltaS**2)\n",
        "\n",
        "    def vega_fd(self, delta=0.001):\n",
        "        deltaV = delta*self.vol\n",
        "        return (self.FD_vol(self.vol+deltaV)-self.FD_vol(self.vol-deltaV))/(2*deltaV)"
      ],
      "metadata": {
        "id": "JhOIM512pY54"
      },
      "execution_count": 35,
      "outputs": []
    },
    {
      "cell_type": "code",
      "source": [
        "cont_call = fixed_strike_lookback_call(r, S0, K, T, S0, vol, div)\n",
        "\n",
        "print(\"Option Price: \", round(cont_call.option_price_vectorized(),3))\n",
        "print(\"Delta: \", round(cont_call.delta_fd(),3))\n",
        "print(\"Gamma: \", round(cont_call.gamma_fd(),3))\n",
        "print(\"Vega: \", round(cont_call.vega_fd(),3))\n",
        "\n",
        "ContPrice = cont_call.option_price_vectorized()"
      ],
      "metadata": {
        "colab": {
          "base_uri": "https://localhost:8080/"
        },
        "id": "KFoJeIV2x7Xy",
        "outputId": "f1e3138a-3bbf-40b6-9365-19dfaec2c691"
      },
      "execution_count": 36,
      "outputs": [
        {
          "output_type": "stream",
          "name": "stdout",
          "text": [
            "Option Price:  17.729\n",
            "Delta:  1.119\n",
            "Gamma:  0.035\n",
            "Vega:  85.938\n"
          ]
        }
      ]
    },
    {
      "cell_type": "code",
      "source": [],
      "metadata": {
        "id": "nkqNKLapa2u5"
      },
      "execution_count": 36,
      "outputs": []
    },
    {
      "cell_type": "markdown",
      "source": [
        "## find linear relation ship $\\beta_i$ between payoff and delta/gamm/vega control variates based on the analytical solution for continuous observations using finite differences.\n",
        "## Greeks evaluated 52(N) times and relationship estimated based on 1000(M) simulations."
      ],
      "metadata": {
        "id": "b4fPIyPPGh8P"
      }
    },
    {
      "cell_type": "code",
      "source": [
        "## fast steps\n",
        "#N = 52    # number of time intervals\n",
        "#M = 1000  # number of simulations\n",
        "\n",
        "# Start Timer\n",
        "start_time = time.time()\n",
        "\n",
        "# Precompute constants\n",
        "dt = T/N\n",
        "\n",
        "# Heston model adjustments for time steps\n",
        "kappadt = kappa*dt\n",
        "sigmasdt = sigma*np.sqrt(dt)\n",
        "\n",
        "# Control variate constant terms\n",
        "\n",
        "nudt = (r - div - 0.5*vt0)*dt\n",
        "volsdt = np.sqrt(vt0*dt)\n",
        "erddt = np.exp((r-div)*dt)\n",
        "egam1 = np.exp(2*(r-div)*dt)\n",
        "egam2 = -2*erddt + 1\n",
        "eveg1 = np.exp(-kappadt)\n",
        "eveg2 = theta - theta*eveg1\n",
        "\n",
        "# Generate Wiener variables\n",
        "Z = np.random.normal(size=(N+1,M,2))\n",
        "#W_ind = np.random.normal(size=(N_tot+1,M,1))\n",
        "#W = Z @ lower_chol\n",
        "W = rho_scalar*Z[:,:,0] + np.sqrt(1-rho_scalar**2)*Z[:,:,1]\n",
        "\n",
        "# initialise prices and variances\n",
        "vt = np.full(shape=(M), fill_value=vt0)\n",
        "St = np.full(shape=(M), fill_value=S0)\n",
        "\n",
        "vtn = np.full(shape=(M), fill_value=0.0)\n",
        "Stn = np.full(shape=(M), fill_value=0.0)\n",
        "\n",
        "# array for storing maximum's\n",
        "St_max = np.full(shape=(M), fill_value=S0)\n",
        "\n",
        "# array for storing control variates\n",
        "cv1 = np.full(shape=(M), fill_value=0.0)\n",
        "cv2 = np.full(shape=(M), fill_value=0.0)\n",
        "cv3 = np.full(shape=(M), fill_value=0.0)\n",
        "\n",
        "for j in range(1,N+1):\n",
        "    # Compute hedge sensitivities\n",
        "    call = fixed_strike_lookback_call(r, St, K, T-(j-1)*dt, St_max, np.sqrt(vt), div)\n",
        "    delta = call.delta_fd()\n",
        "    gamma = call.gamma_fd()\n",
        "    vega = call.vega_fd()\n",
        "\n",
        "    # Simulate variance processes\n",
        "    vtn = vt + kappadt*(theta - vt) + sigmasdt*np.sqrt(vt)*Z[j-1,:,0]\n",
        "\n",
        "    # Simulate log asset prices\n",
        "    nudt = (r - div - 0.5*vt)*dt\n",
        "    Stn = St*np.exp( nudt + np.sqrt(vt*dt)*W[j-1,:] )\n",
        "\n",
        "    # accumulate control variates\n",
        "    cv1 += delta*(Stn - St*erddt)\n",
        "    cv2 += gamma*((Stn - St)**2 - (egam1*np.exp(vt*dt) + egam2)*St**2)\n",
        "    cv3 += vega*((vtn - vt) - (vt*eveg1+eveg2-vt))\n",
        "\n",
        "    mask = np.where(Stn > St_max)\n",
        "    St_max[mask] = Stn[mask]\n",
        "\n",
        "    vt = vtn\n",
        "    St = Stn\n",
        "\n",
        "# Compute Expectation and SE\n",
        "Y = np.maximum(0, St_max - K)"
      ],
      "metadata": {
        "id": "f9Z7OWERHI4m"
      },
      "execution_count": 37,
      "outputs": []
    },
    {
      "cell_type": "code",
      "source": [
        "C0 = np.exp(-r*T)*np.sum(Y)/M\n",
        "C0"
      ],
      "metadata": {
        "colab": {
          "base_uri": "https://localhost:8080/"
        },
        "id": "bTbOdssBH9V2",
        "outputId": "f361dc2b-9aa0-428f-cacc-2a34e8307ac2"
      },
      "execution_count": 38,
      "outputs": [
        {
          "output_type": "execute_result",
          "data": {
            "text/plain": [
              "16.269960525692177"
            ]
          },
          "metadata": {},
          "execution_count": 38
        }
      ]
    },
    {
      "cell_type": "code",
      "source": [
        "X = np.vstack([np.ones(M), cv1, cv2, cv3]).T\n",
        "\n",
        "beta = np.linalg.lstsq(X, Y, rcond=None)[0]\n",
        "print('Beta 0        : ',round(beta[0],3))\n",
        "print('Beta 1 (delta): ',round(beta[1],3))\n",
        "print('Beta 2 (gamma): ',round(beta[2],3))\n",
        "print('Beta 3 (vega) : ',round(beta[3],3))\n",
        "\n",
        "fig, ax = plt.subplots(nrows=1, ncols=3, figsize=(14,4))\n",
        "naming = ['Delta','Gamma','Vega']\n",
        "ax[0].scatter(cv1,Y,label=naming[0],color='k')\n",
        "ax[1].scatter(cv2,Y,label=naming[1],color='b')\n",
        "ax[2].scatter(cv3,Y,label=naming[2],color='g')\n",
        "for i,a in enumerate(ax):\n",
        "    a.set_ylabel('Payoff')\n",
        "    a.set_xlabel(naming[i]+'-based control variate')\n",
        "    a.legend()\n",
        "plt.show()"
      ],
      "metadata": {
        "colab": {
          "base_uri": "https://localhost:8080/",
          "height": 459
        },
        "id": "OK5RYdUQIJtM",
        "outputId": "4fc183cd-8da1-4b18-8a35-290e2c0f2360"
      },
      "execution_count": 39,
      "outputs": [
        {
          "output_type": "stream",
          "name": "stdout",
          "text": [
            "Beta 0        :  16.827\n",
            "Beta 1 (delta):  0.49\n",
            "Beta 2 (gamma):  0.234\n",
            "Beta 3 (vega) :  -12.76\n"
          ]
        },
        {
          "output_type": "display_data",
          "data": {
            "text/plain": [
              "<Figure size 1400x400 with 3 Axes>"
            ],
            "image/png": "[encoded data removed]"
          },
          "metadata": {}
        }
      ]
    },
    {
      "cell_type": "code",
      "source": [
        "# Start Timer\n",
        "start_time = time.time()\n",
        "\n",
        "# Precompute constants\n",
        "dt = T/N\n",
        "\n",
        "# Heston model adjustments for time steps\n",
        "kappadt = kappa*dt\n",
        "sigmasdt = sigma*np.sqrt(dt)\n",
        "\n",
        "# Control variate constant terms\n",
        "erddt = np.exp((r-div)*dt)\n",
        "egam1 = np.exp(2*(r-div)*dt)\n",
        "egam2 = -2*erddt + 1\n",
        "eveg1 = np.exp(-kappadt)\n",
        "eveg2 = theta - theta*eveg1\n",
        "\n",
        "# linear constants pre-determined for control variate weighting\n",
        "beta1 = -beta[1]\n",
        "beta2 = -beta[2]\n",
        "beta3 = -beta[3]\n",
        "\n",
        "# Perform (lower) cholesky decomposition\n",
        "lower_chol = cholesky(rho, lower=True)\n",
        "\n",
        "# Generate Wiener variables\n",
        "Z = np.random.normal(size=(N+1,M,2))\n",
        "#W_ind = np.random.normal(size=(N_tot+1,M,1))\n",
        "#W = Z @ lower_chol\n",
        "W = rho_scalar*Z[:,:,0] + np.sqrt(1-rho_scalar**2)*Z[:,:,1]\n",
        "\n",
        "# arrays for storing prices and variances\n",
        "St = np.full(shape=(N+1,M), fill_value=S0)\n",
        "vt = np.full(shape=(N+1,M), fill_value=vt0)\n",
        "\n",
        "# array for storing maximum's\n",
        "St_max = np.full(shape=(M), fill_value=S0)\n",
        "\n",
        "# array for storing control variates\n",
        "cv1 = np.full(shape=(M), fill_value=0.0)\n",
        "cv2 = np.full(shape=(M), fill_value=0.0)\n",
        "cv3 = np.full(shape=(M), fill_value=0.0)\n",
        "\n",
        "for j in range(1,N+1):\n",
        "\n",
        "    # Compute hedge sensitivities\n",
        "    call = fixed_strike_lookback_call(r, St[j-1], K, T-(j-1)*dt, St_max, np.sqrt(vt[j-1]), div)\n",
        "    delta = call.delta_fd()\n",
        "    gamma = call.gamma_fd()\n",
        "    vega = call.vega_fd()\n",
        "\n",
        "    # Simulate variance processes\n",
        "    vt[j] = vt[j-1] + kappadt*(theta - vt[j-1]) + sigmasdt*np.sqrt(vt[j-1])*Z[j-1,:,0]\n",
        "\n",
        "    # Simulate log asset prices\n",
        "    nudt = (r - div - 0.5*vt[j])*dt\n",
        "    St[j] = St[j-1]*np.exp( nudt + np.sqrt(vt[j]*dt)*W[j-1,:] )\n",
        "\n",
        "    # accumulate control variates\n",
        "    cv1 += delta*(St[j] - St[j-1]*erddt)\n",
        "    cv2 += gamma*((St[j] - St[j-1])**2 - (egam1*np.exp(vt[j-1]*dt) + egam2)*St[j-1]**2)\n",
        "    cv3 += vega*((vt[j] - vt[j-1]) - (vt[j-1]*eveg1+eveg2-vt[j-1]))\n",
        "\n",
        "    mask = np.where(St[j] > St_max)\n",
        "    St_max[mask] = St[j][mask]\n",
        "\n",
        "# Compute Expectation and SE\n",
        "CT = np.maximum(0, St_max - K) + beta1*cv1 + beta2*cv2 + beta3*cv3\n",
        "C0_cv = np.exp(-r*T)*np.sum(CT)/M\n",
        "\n",
        "SE_cv = np.sqrt( np.sum( (np.exp(-r*T)*CT - C0_cv)**2) / (M-1) ) /np.sqrt(M)\n",
        "\n",
        "time_comp_cv = round(time.time() - start_time,4)\n",
        "print(\"Call value is ${0} with SE +/- {1}\".format(np.round(C0_cv,2),np.round(SE_cv,2)))\n",
        "print(\"Calculation time: {0} sec\".format(time_comp_cv))"
      ],
      "metadata": {
        "colab": {
          "base_uri": "https://localhost:8080/"
        },
        "id": "jcJkbYL3JOzg",
        "outputId": "1687882c-3e14-426b-dbc7-155a553444fb"
      },
      "execution_count": 40,
      "outputs": [
        {
          "output_type": "stream",
          "name": "stdout",
          "text": [
            "Call value is $15.84 with SE +/- 0.18\n",
            "Calculation time: 0.2373 sec\n"
          ]
        }
      ]
    },
    {
      "cell_type": "markdown",
      "source": [
        "# Heston Model with antithetic and control (delta/gamma/vega) variates"
      ],
      "metadata": {
        "id": "USvmYCXAKAM2"
      }
    },
    {
      "cell_type": "code",
      "source": [
        "# Start Timer\n",
        "start_time = time.time()\n",
        "\n",
        "# Precompute constants\n",
        "dt = T/N\n",
        "\n",
        "# Heston model adjustments for time steps\n",
        "kappadt = kappa*dt\n",
        "sigmasdt = sigma*np.sqrt(dt)\n",
        "\n",
        "# Control variate constant terms\n",
        "erddt = np.exp((r-div)*dt)\n",
        "egam1 = np.exp(2*(r-div)*dt)\n",
        "egam2 = -2*erddt + 1\n",
        "eveg1 = np.exp(-kappadt)\n",
        "eveg2 = theta - theta*eveg1\n",
        "\n",
        "# linear constants pre-determined for control variate weighting\n",
        "beta1 = -beta[1]#-0.88\n",
        "beta2 = -beta[2]#-0.43\n",
        "beta3 = -beta[3]#-0.0003\n",
        "\n",
        "# Generate Wiener variables\n",
        "Z = np.random.normal(size=(N+1,M,2))\n",
        "#W_ind = np.random.normal(size=(N_tot+1,M,1))\n",
        "#W = Z @ lower_chol\n",
        "W1 = rho_scalar*Z[:,:,0] + np.sqrt(1-rho_scalar**2)*Z[:,:,1]\n",
        "W2 = rho_scalar*Z[:,:,0] - np.sqrt(1-rho_scalar**2)*Z[:,:,1]\n",
        "\n",
        "# array for storing control variates\n",
        "cv1 = np.full(shape=(M), fill_value=0.0)\n",
        "cv2 = np.full(shape=(M), fill_value=0.0)\n",
        "cv3 = np.full(shape=(M), fill_value=0.0)\n",
        "\n",
        "# arrays for storing prices and variances\n",
        "St1 = np.full(shape=(N+1,M), fill_value=S0)\n",
        "St2 = np.full(shape=(N+1,M), fill_value=S0)\n",
        "vt = np.full(shape=(N+1,M), fill_value=vt0)\n",
        "\n",
        "# array for storing maximum's\n",
        "St1_max = np.full(shape=(M), fill_value=S0)\n",
        "St2_max = np.full(shape=(M), fill_value=S0)\n",
        "\n",
        "for j in range(1,N+1):\n",
        "    # Compute hedge sensitivities\n",
        "    call1 = fixed_strike_lookback_call(r, St1[j-1], K, T-(j-1)*dt, St1_max, np.sqrt(vt[j-1]), div)\n",
        "    call2 = fixed_strike_lookback_call(r, St2[j-1], K, T-(j-1)*dt, St2_max, np.sqrt(vt[j-1]), div)\n",
        "    delta1 = call1.delta_fd()\n",
        "    delta2 = call2.delta_fd()\n",
        "    gamma1 = call1.gamma_fd()\n",
        "    gamma2 = call2.gamma_fd()\n",
        "    vega1 = call1.vega_fd()\n",
        "    vega2 = call2.vega_fd()\n",
        "\n",
        "    # Simulate variance processes\n",
        "    vt[j] = vt[j-1] + kappadt*(theta - vt[j-1]) + sigmasdt*np.sqrt(vt[j-1])*Z[j-1,:,0]\n",
        "\n",
        "    # Simulate log asset prices\n",
        "    nudt = (r - div - 0.5*vt[j])*dt\n",
        "    St1[j] = St1[j-1]*np.exp( nudt + np.sqrt(vt[j]*dt)*W1[j-1,:] )\n",
        "    St2[j] = St2[j-1]*np.exp( nudt - np.sqrt(vt[j]*dt)*W2[j-1,:] )\n",
        "\n",
        "    # accumulate control variates\n",
        "    cv1 += delta1*(St1[j] - St1[j-1]*erddt) + delta2*(St2[j] - St2[j-1]*erddt)\n",
        "    cv2 += gamma1*((St1[j] - St1[j-1])**2 - (egam1*np.exp(vt[j-1]*dt) + egam2)*St1[j-1]**2) \\\n",
        "         + gamma2*((St2[j] - St2[j-1])**2 - (egam1*np.exp(vt[j-1]*dt) + egam2)*St2[j-1]**2)\n",
        "    cv3 += vega1*((vt[j] - vt[j-1]) - (vt[j-1]*eveg1+eveg2-vt[j-1])) \\\n",
        "         + vega2*((vt[j] - vt[j-1]) - (vt[j-1]*eveg1+eveg2-vt[j-1]))\n",
        "\n",
        "    mask1 = np.where(St1[j] > St1_max)\n",
        "    mask2 = np.where(St2[j] > St2_max)\n",
        "    St1_max[mask1] = St1[j][mask1]\n",
        "    St2_max[mask2] = St2[j][mask2]\n",
        "\n",
        "# Compute Expectation and SE\n",
        "CT = 0.5*(np.maximum(0, St1_max - K) + np.maximum(0, St2_max - K) \\\n",
        "      + beta1*cv1 + beta2*cv2 + beta3*cv3)\n",
        "\n",
        "C0_acv = np.exp(-r*T)*np.sum(CT)/M\n",
        "\n",
        "SE_acv = np.sqrt( np.sum( (np.exp(-r*T)*CT - C0_acv)**2) / (M-1) ) /np.sqrt(M)\n",
        "\n",
        "time_comp_acv = round(time.time() - start_time,4)\n",
        "\n",
        "print(\"Call value is ${0} with SE +/- {1}\".format(np.round(C0_acv,2),np.round(SE_acv,2)))\n",
        "print(\"Calculation time: {0} sec\".format(time_comp_acv))"
      ],
      "metadata": {
        "colab": {
          "base_uri": "https://localhost:8080/"
        },
        "id": "yufR650NKOQb",
        "outputId": "a2c7e6f1-8698-4bfe-ecd5-26e753f3983c"
      },
      "execution_count": 41,
      "outputs": [
        {
          "output_type": "stream",
          "name": "stdout",
          "text": [
            "Call value is $15.88 with SE +/- 0.17\n",
            "Calculation time: 0.4869 sec\n"
          ]
        }
      ]
    },
    {
      "cell_type": "markdown",
      "source": [
        "# Compare computation time and variance reduction"
      ],
      "metadata": {
        "id": "FmLEAEYsKoGA"
      }
    },
    {
      "cell_type": "code",
      "source": [
        "C0_variates = [C0_fast, C0_av, C0_cv, C0_acv]\n",
        "se_variates = [SE_fast, SE_av, SE_cv, SE_acv]\n",
        "se_red = [round(SE_fast/se,2) for se in se_variates]\n",
        "comp_time = [time_comp_fast, time_comp_av, time_comp_cv, time_comp_acv]\n",
        "rel_time = [round(mc_time/time_comp_fast,2) for mc_time in comp_time]\n",
        "data = {'Lookback Call Option Value': np.round(C0_variates,3),\n",
        "        'Standard Error SE': np.round(se_variates,3),\n",
        "        'SE Reduction Multiple': se_red,\n",
        "        'Relative Computation Time': rel_time}\n",
        "\n",
        "# Creates pandas DataFrame.\n",
        "df = pd.DataFrame(data, index =['Fast Estimate', 'with antithetic variate',\n",
        "'with control variates', 'with antithetic and control variates'])\n",
        "df"
      ],
      "metadata": {
        "colab": {
          "base_uri": "https://localhost:8080/",
          "height": 175
        },
        "id": "byRg_DYiKjyf",
        "outputId": "6695f756-8351-4d59-dc21-a5b0b138586e"
      },
      "execution_count": 45,
      "outputs": [
        {
          "output_type": "execute_result",
          "data": {
            "text/plain": [
              "                                      Lookback Call Option Value  \\\n",
              "Fast Estimate                                             16.689   \n",
              "with antithetic variate                                   15.164   \n",
              "with control variates                                     15.843   \n",
              "with antithetic and control variates                      15.882   \n",
              "\n",
              "                                      Standard Error SE  \\\n",
              "Fast Estimate                                     0.461   \n",
              "with antithetic variate                           0.312   \n",
              "with control variates                             0.176   \n",
              "with antithetic and control variates              0.171   \n",
              "\n",
              "                                      SE Reduction Multiple  \\\n",
              "Fast Estimate                                          1.00   \n",
              "with antithetic variate                                1.48   \n",
              "with control variates                                  2.63   \n",
              "with antithetic and control variates                   2.69   \n",
              "\n",
              "                                      Relative Computation Time  \n",
              "Fast Estimate                                              1.00  \n",
              "with antithetic variate                                    1.43  \n",
              "with control variates                                     32.07  \n",
              "with antithetic and control variates                      65.80  "
            ],
            "text/html": [
              "\n",
              "  <div id=\"df-495e7e99-7e11-40ba-bb62-f5cdb02a5855\" class=\"colab-df-container\">\n",
              "    <div>\n",
              "<style scoped>\n",
              "    .dataframe tbody tr th:only-of-type {\n",
              "        vertical-align: middle;\n",
              "    }\n",
              "\n",
              "    .dataframe tbody tr th {\n",
              "        vertical-align: top;\n",
              "    }\n",
              "\n",
              "    .dataframe thead th {\n",
              "        text-align: right;\n",
              "    }\n",
              "</style>\n",
              "<table border=\"1\" class=\"dataframe\">\n",
              "  <thead>\n",
              "    <tr style=\"text-align: right;\">\n",
              "      <th></th>\n",
              "      <th>Lookback Call Option Value</th>\n",
              "      <th>Standard Error SE</th>\n",
              "      <th>SE Reduction Multiple</th>\n",
              "      <th>Relative Computation Time</th>\n",
              "    </tr>\n",
              "  </thead>\n",
              "  <tbody>\n",
              "    <tr>\n",
              "      <th>Fast Estimate</th>\n",
              "      <td>16.689</td>\n",
              "      <td>0.461</td>\n",
              "      <td>1.00</td>\n",
              "      <td>1.00</td>\n",
              "    </tr>\n",
              "    <tr>\n",
              "      <th>with antithetic variate</th>\n",
              "      <td>15.164</td>\n",
              "      <td>0.312</td>\n",
              "      <td>1.48</td>\n",
              "      <td>1.43</td>\n",
              "    </tr>\n",
              "    <tr>\n",
              "      <th>with control variates</th>\n",
              "      <td>15.843</td>\n",
              "      <td>0.176</td>\n",
              "      <td>2.63</td>\n",
              "      <td>32.07</td>\n",
              "    </tr>\n",
              "    <tr>\n",
              "      <th>with antithetic and control variates</th>\n",
              "      <td>15.882</td>\n",
              "      <td>0.171</td>\n",
              "      <td>2.69</td>\n",
              "      <td>65.80</td>\n",
              "    </tr>\n",
              "  </tbody>\n",
              "</table>\n",
              "</div>\n",
              "    <div class=\"colab-df-buttons\">\n",
              "\n",
              "  <div class=\"colab-df-container\">\n",
              "    <button class=\"colab-df-convert\" onclick=\"convertToInteractive('df-495e7e99-7e11-40ba-bb62-f5cdb02a5855')\"\n",
              "            title=\"Convert this dataframe to an interactive table.\"\n",
              "            style=\"display:none;\">\n",
              "\n",
              "  <svg xmlns=\"http://www.w3.org/2000/svg\" height=\"24px\" viewBox=\"0 -960 960 960\">\n",
              "    <path d=\"M120-120v-720h720v720H120Zm60-500h600v-160H180v160Zm220 220h160v-160H400v160Zm0 220h160v-160H400v160ZM180-400h160v-160H180v160Zm440 0h160v-160H620v160ZM180-180h160v-160H180v160Zm440 0h160v-160H620v160Z\"/>\n",
              "  </svg>\n",
              "    </button>\n",
              "\n",
              "  <style>\n",
              "    .colab-df-container {\n",
              "      display:flex;\n",
              "      gap: 12px;\n",
              "    }\n",
              "\n",
              "    .colab-df-convert {\n",
              "      background-color: #E8F0FE;\n",
              "      border: none;\n",
              "      border-radius: 50%;\n",
              "      cursor: pointer;\n",
              "      display: none;\n",
              "      fill: #1967D2;\n",
              "      height: 32px;\n",
              "      padding: 0 0 0 0;\n",
              "      width: 32px;\n",
              "    }\n",
              "\n",
              "    .colab-df-convert:hover {\n",
              "      background-color: #E2EBFA;\n",
              "      box-shadow: 0px 1px 2px rgba(60, 64, 67, 0.3), 0px 1px 3px 1px rgba(60, 64, 67, 0.15);\n",
              "      fill: #174EA6;\n",
              "    }\n",
              "\n",
              "    .colab-df-buttons div {\n",
              "      margin-bottom: 4px;\n",
              "    }\n",
              "\n",
              "    [theme=dark] .colab-df-convert {\n",
              "      background-color: #3B4455;\n",
              "      fill: #D2E3FC;\n",
              "    }\n",
              "\n",
              "    [theme=dark] .colab-df-convert:hover {\n",
              "      background-color: #434B5C;\n",
              "      box-shadow: 0px 1px 3px 1px rgba(0, 0, 0, 0.15);\n",
              "      filter: drop-shadow(0px 1px 2px rgba(0, 0, 0, 0.3));\n",
              "      fill: #FFFFFF;\n",
              "    }\n",
              "  </style>\n",
              "\n",
              "    <script>\n",
              "      const buttonEl =\n",
              "        document.querySelector('#df-495e7e99-7e11-40ba-bb62-f5cdb02a5855 button.colab-df-convert');\n",
              "      buttonEl.style.display =\n",
              "        google.colab.kernel.accessAllowed ? 'block' : 'none';\n",
              "\n",
              "      async function convertToInteractive(key) {\n",
              "        const element = document.querySelector('#df-495e7e99-7e11-40ba-bb62-f5cdb02a5855');\n",
              "        const dataTable =\n",
              "          await google.colab.kernel.invokeFunction('convertToInteractive',\n",
              "                                                    [key], {});\n",
              "        if (!dataTable) return;\n",
              "\n",
              "        const docLinkHtml = 'Like what you see? Visit the ' +\n",
              "          '<a target=\"_blank\" href=https://colab.research.google.com/notebooks/data_table.ipynb>data table notebook</a>'\n",
              "          + ' to learn more about interactive tables.';\n",
              "        element.innerHTML = '';\n",
              "        dataTable['output_type'] = 'display_data';\n",
              "        await google.colab.output.renderOutput(dataTable, element);\n",
              "        const docLink = document.createElement('div');\n",
              "        docLink.innerHTML = docLinkHtml;\n",
              "        element.appendChild(docLink);\n",
              "      }\n",
              "    </script>\n",
              "  </div>\n",
              "\n",
              "\n",
              "<div id=\"df-e977b725-6dac-4f6d-b0a2-776298470d68\">\n",
              "  <button class=\"colab-df-quickchart\" onclick=\"quickchart('df-e977b725-6dac-4f6d-b0a2-776298470d68')\"\n",
              "            title=\"Suggest charts\"\n",
              "            style=\"display:none;\">\n",
              "\n",
              "<svg xmlns=\"http://www.w3.org/2000/svg\" height=\"24px\"viewBox=\"0 0 24 24\"\n",
              "     width=\"24px\">\n",
              "    <g>\n",
              "        <path d=\"M19 3H5c-1.1 0-2 .9-2 2v14c0 1.1.9 2 2 2h14c1.1 0 2-.9 2-2V5c0-1.1-.9-2-2-2zM9 17H7v-7h2v7zm4 0h-2V7h2v10zm4 0h-2v-4h2v4z\"/>\n",
              "    </g>\n",
              "</svg>\n",
              "  </button>\n",
              "\n",
              "<style>\n",
              "  .colab-df-quickchart {\n",
              "      --bg-color: #E8F0FE;\n",
              "      --fill-color: #1967D2;\n",
              "      --hover-bg-color: #E2EBFA;\n",
              "      --hover-fill-color: #174EA6;\n",
              "      --disabled-fill-color: #AAA;\n",
              "      --disabled-bg-color: #DDD;\n",
              "  }\n",
              "\n",
              "  [theme=dark] .colab-df-quickchart {\n",
              "      --bg-color: #3B4455;\n",
              "      --fill-color: #D2E3FC;\n",
              "      --hover-bg-color: #434B5C;\n",
              "      --hover-fill-color: #FFFFFF;\n",
              "      --disabled-bg-color: #3B4455;\n",
              "      --disabled-fill-color: #666;\n",
              "  }\n",
              "\n",
              "  .colab-df-quickchart {\n",
              "    background-color: var(--bg-color);\n",
              "    border: none;\n",
              "    border-radius: 50%;\n",
              "    cursor: pointer;\n",
              "    display: none;\n",
              "    fill: var(--fill-color);\n",
              "    height: 32px;\n",
              "    padding: 0;\n",
              "    width: 32px;\n",
              "  }\n",
              "\n",
              "  .colab-df-quickchart:hover {\n",
              "    background-color: var(--hover-bg-color);\n",
              "    box-shadow: 0 1px 2px rgba(60, 64, 67, 0.3), 0 1px 3px 1px rgba(60, 64, 67, 0.15);\n",
              "    fill: var(--button-hover-fill-color);\n",
              "  }\n",
              "\n",
              "  .colab-df-quickchart-complete:disabled,\n",
              "  .colab-df-quickchart-complete:disabled:hover {\n",
              "    background-color: var(--disabled-bg-color);\n",
              "    fill: var(--disabled-fill-color);\n",
              "    box-shadow: none;\n",
              "  }\n",
              "\n",
              "  .colab-df-spinner {\n",
              "    border: 2px solid var(--fill-color);\n",
              "    border-color: transparent;\n",
              "    border-bottom-color: var(--fill-color);\n",
              "    animation:\n",
              "      spin 1s steps(1) infinite;\n",
              "  }\n",
              "\n",
              "  @keyframes spin {\n",
              "    0% {\n",
              "      border-color: transparent;\n",
              "      border-bottom-color: var(--fill-color);\n",
              "      border-left-color: var(--fill-color);\n",
              "    }\n",
              "    20% {\n",
              "      border-color: transparent;\n",
              "      border-left-color: var(--fill-color);\n",
              "      border-top-color: var(--fill-color);\n",
              "    }\n",
              "    30% {\n",
              "      border-color: transparent;\n",
              "      border-left-color: var(--fill-color);\n",
              "      border-top-color: var(--fill-color);\n",
              "      border-right-color: var(--fill-color);\n",
              "    }\n",
              "    40% {\n",
              "      border-color: transparent;\n",
              "      border-right-color: var(--fill-color);\n",
              "      border-top-color: var(--fill-color);\n",
              "    }\n",
              "    60% {\n",
              "      border-color: transparent;\n",
              "      border-right-color: var(--fill-color);\n",
              "    }\n",
              "    80% {\n",
              "      border-color: transparent;\n",
              "      border-right-color: var(--fill-color);\n",
              "      border-bottom-color: var(--fill-color);\n",
              "    }\n",
              "    90% {\n",
              "      border-color: transparent;\n",
              "      border-bottom-color: var(--fill-color);\n",
              "    }\n",
              "  }\n",
              "</style>\n",
              "\n",
              "  <script>\n",
              "    async function quickchart(key) {\n",
              "      const quickchartButtonEl =\n",
              "        document.querySelector('#' + key + ' button');\n",
              "      quickchartButtonEl.disabled = true;  // To prevent multiple clicks.\n",
              "      quickchartButtonEl.classList.add('colab-df-spinner');\n",
              "      try {\n",
              "        const charts = await google.colab.kernel.invokeFunction(\n",
              "            'suggestCharts', [key], {});\n",
              "      } catch (error) {\n",
              "        console.error('Error during call to suggestCharts:', error);\n",
              "      }\n",
              "      quickchartButtonEl.classList.remove('colab-df-spinner');\n",
              "      quickchartButtonEl.classList.add('colab-df-quickchart-complete');\n",
              "    }\n",
              "    (() => {\n",
              "      let quickchartButtonEl =\n",
              "        document.querySelector('#df-e977b725-6dac-4f6d-b0a2-776298470d68 button');\n",
              "      quickchartButtonEl.style.display =\n",
              "        google.colab.kernel.accessAllowed ? 'block' : 'none';\n",
              "    })();\n",
              "  </script>\n",
              "</div>\n",
              "    </div>\n",
              "  </div>\n"
            ],
            "application/vnd.google.colaboratory.intrinsic+json": {
              "type": "dataframe",
              "variable_name": "df",
              "summary": "{\n  \"name\": \"df\",\n  \"rows\": 4,\n  \"fields\": [\n    {\n      \"column\": \"Lookback Call Option Value\",\n      \"properties\": {\n        \"dtype\": \"number\",\n        \"std\": 0.6238773918006648,\n        \"min\": 15.164,\n        \"max\": 16.689,\n        \"num_unique_values\": 4,\n        \"samples\": [\n          15.164,\n          15.882,\n          16.689\n        ],\n        \"semantic_type\": \"\",\n        \"description\": \"\"\n      }\n    },\n    {\n      \"column\": \"Standard Error SE\",\n      \"properties\": {\n        \"dtype\": \"number\",\n        \"std\": 0.13721273021601652,\n        \"min\": 0.171,\n        \"max\": 0.461,\n        \"num_unique_values\": 4,\n        \"samples\": [\n          0.312,\n          0.171,\n          0.461\n        ],\n        \"semantic_type\": \"\",\n        \"description\": \"\"\n      }\n    },\n    {\n      \"column\": \"SE Reduction Multiple\",\n      \"properties\": {\n        \"dtype\": \"number\",\n        \"std\": 0.843287218765548,\n        \"min\": 1.0,\n        \"max\": 2.69,\n        \"num_unique_values\": 4,\n        \"samples\": [\n          1.48,\n          2.69,\n          1.0\n        ],\n        \"semantic_type\": \"\",\n        \"description\": \"\"\n      }\n    },\n    {\n      \"column\": \"Relative Computation Time\",\n      \"properties\": {\n        \"dtype\": \"number\",\n        \"std\": 30.801229953796756,\n        \"min\": 1.0,\n        \"max\": 65.8,\n        \"num_unique_values\": 4,\n        \"samples\": [\n          1.43,\n          65.8,\n          1.0\n        ],\n        \"semantic_type\": \"\",\n        \"description\": \"\"\n      }\n    }\n  ]\n}"
            }
          },
          "metadata": {},
          "execution_count": 45
        }
      ]
    },
    {
      "source": [
        "# @title SE Reduction Multiple vs Relative Computation Time\n",
        "\n",
        "from matplotlib import pyplot as plt\n",
        "\n",
        "x = np.linspace(1, 40, 100)\n",
        "y = np.sqrt(x)\n",
        "\n",
        "fig = plt.figure(figsize = (10, 5))\n",
        "\n",
        "df.plot(kind='scatter', x='Relative Computation Time', y='SE Reduction Multiple', s=32, alpha=.8)\n",
        "plt.gca().spines[['top', 'right',]].set_visible(False)\n",
        "plt.plot(x, y, label=\"sqrt(Nr_Simulations)\")\n",
        "plt.legend(loc=\"upper left\")"
      ],
      "cell_type": "code",
      "execution_count": 46,
      "outputs": [
        {
          "output_type": "execute_result",
          "data": {
            "text/plain": [
              "<matplotlib.legend.Legend at 0x78a3705dbf10>"
            ]
          },
          "metadata": {},
          "execution_count": 46
        },
        {
          "output_type": "display_data",
          "data": {
            "text/plain": [
              "<Figure size 1000x500 with 0 Axes>"
            ]
          },
          "metadata": {}
        },
        {
          "output_type": "display_data",
          "data": {
            "text/plain": [
              "<Figure size 640x480 with 1 Axes>"
            ],
            "image/png": "[encoded data removed]"
          },
          "metadata": {}
        }
      ],
      "metadata": {
        "cellView": "form",
        "colab": {
          "base_uri": "https://localhost:8080/",
          "height": 485
        },
        "id": "tFwrCzgqMenn",
        "outputId": "ec37e94b-6fe4-45bf-a963-4a5ae8feeb6e"
      }
    },
    {
      "cell_type": "markdown",
      "source": [
        "Control variate too expensive to calculate/ too weakly correlated and thus not worth it since additional simulations (M) reduce the SE $\\propto \\frac{1}{\\sqrt{M}}$"
      ],
      "metadata": {
        "id": "VMCo7Bq5LFX_"
      }
    }
  ]
}