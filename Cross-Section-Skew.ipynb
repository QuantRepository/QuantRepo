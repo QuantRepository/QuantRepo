{
  "nbformat": 4,
  "nbformat_minor": 0,
  "metadata": {
    "colab": {
      "provenance": []
    },
    "kernelspec": {
      "name": "python3",
      "display_name": "Python 3"
    },
    "language_info": {
      "name": "python"
    }
  },
  "cells": [
    {
      "cell_type": "markdown",
      "source": [
        "# Brief summary of Cross-Asset Skew strategy\n",
        "\n",
        "Strategy ([Nick Baltas et al 2019](https://www.researchgate.net/publication/338498916_Cross-Asset_Skew)): Calculate rolling (256 trading days = 1 trading year) skew of assets (here ETFs) in different asset classes (here Commodities, Equities and Fixed Income), rank them based on their skewness within each asset class and assign weights based on the rank (from low to high skewness). Then construct self financed portfolio (1 dollar short in lower ranked assets 1 dollar long in higher ranked assets) and rebalance each month based on the skewness ranking at the end of the previous month.\n",
        "\n",
        "Backtest portfolio for different start and end dates by comparing the performance of the skew portfolios with the market portfolios of the individual assets and perform OLS regression to see if strategy yields significant alpha or just market beta.\n",
        "\n",
        "The skew portfolio from different assets are barely correlated (check) thus advantageous to diversivy and combine the individual portfolios into one diverse portfolio (Global Skewness Factor Portfolio).\n",
        "\n",
        "Global Skewness Factor Portfolio: Scale each asset class skew portfolio to have a full sample volatility of 10% and combine them all on an equal-weight basis."
      ],
      "metadata": {
        "id": "OUUvsmNWg_Ly"
      }
    },
    {
      "cell_type": "markdown",
      "source": [
        "Definition of Skew:\n",
        "\\begin{equation}\n",
        "  S= \\frac{1}{N} \\sum_{i=1}^{N}\\frac{(r_i - \\mu)^3}{\\sigma^3}\n",
        "\\end{equation}\n",
        "$\\sigma$ rolling std\n",
        "\n",
        "$\\mu$ rolling mean\n",
        "\n",
        "$r_i$ daily returns of individual ETFs\n",
        "\n",
        "Definition of weight:\n",
        "\\begin{equation}\n",
        "  w = z(RANK - \\frac{M+1}{2})\n",
        "\\end{equation}\n",
        "$z$ normalization factor\n",
        "\n",
        "$RANK$ ranking of ETF within asset class\n",
        "\n",
        "$M$ nummber of ETFs in asset class"
      ],
      "metadata": {
        "id": "NEfnT_wTjFg3"
      }
    },
    {
      "cell_type": "code",
      "execution_count": null,
      "metadata": {
        "id": "uh3hIwKbP6Oa"
      },
      "outputs": [],
      "source": [
        "import numpy as np\n",
        "import pandas as pd\n",
        "import time\n",
        "import matplotlib.pyplot as plt\n",
        "from pandas_datareader import data as pdr\n",
        "import yfinance as yf\n",
        "import statsmodels.api as sm\n",
        "from scipy.stats import linregress"
      ]
    },
    {
      "cell_type": "markdown",
      "source": [
        "Pull data from yahoo finance"
      ],
      "metadata": {
        "id": "tZwmXQFyZJyd"
      }
    },
    {
      "cell_type": "code",
      "source": [
        "# import data\n",
        "def get_data(stocks, start, end):\n",
        "    stockData = yf.download(stocks, start, end)\n",
        "    stockData['Ticker'] = stocks\n",
        "    #stockData = stockData['Close']\n",
        "    #returns = stockData.pct_change()\n",
        "    #meanReturns = returns.mean()\n",
        "    #covMatrix = returns.cov()\n",
        "    return stockData  #, covMatrix"
      ],
      "metadata": {
        "id": "QgAoYcu3QPPh"
      },
      "execution_count": null,
      "outputs": []
    },
    {
      "cell_type": "markdown",
      "source": [
        "Set start and end date for the Backtest"
      ],
      "metadata": {
        "id": "Rq2NH7k5ZPjM"
      }
    },
    {
      "cell_type": "code",
      "source": [
        "startdate = \"2015-01-01\"\n",
        "enddate = \"2024-04-01\""
      ],
      "metadata": {
        "id": "6F37MAvRQU1H"
      },
      "execution_count": null,
      "outputs": []
    },
    {
      "cell_type": "markdown",
      "source": [
        "# Commodities"
      ],
      "metadata": {
        "id": "v59oGOWTamih"
      }
    },
    {
      "cell_type": "markdown",
      "source": [
        "Select the ETFs in the commodity asset class and calculate the rolling skew for the last day of the month (EOM) for each ETF.\n",
        "\n",
        "Make sure that data is clean"
      ],
      "metadata": {
        "id": "XY5Bc47-Z7tW"
      }
    },
    {
      "cell_type": "code",
      "source": [
        "commodities = [\"GLD\", \"SLV\", \"GSG\", \"USO\", \"PPLT\", \"UNG\", \"DBA\"]\n",
        "\n",
        "alldatacommodities  = []\n",
        "for j in commodities:\n",
        "  individualdf =  get_data(j,startdate,enddate)\n",
        "  individualdf\n",
        "  individualdf = individualdf.drop(columns=['Open','High','Low','Adj Close','Volume'])\n",
        "  individualdf['pct_change'] = individualdf.Close.pct_change()\n",
        "  individualdf['ret'] = np.log(individualdf.Close) - np.log(individualdf.Close.shift(1))\n",
        "  individualdf['rolling_mean'] = individualdf.ret.rolling(256).mean()\n",
        "  individualdf['rolling_std'] = individualdf.ret.rolling(256).std()\n",
        "  individualdf['skew_day'] = ((individualdf.ret-individualdf.rolling_mean)/individualdf.rolling_std)**3\n",
        "  individualdf['rolling_skew'] = individualdf.skew_day.rolling(256).mean()\n",
        "  individualdf = individualdf.reset_index()\n",
        "  groupings = individualdf.groupby([individualdf.Date.dt.year, individualdf.Date.dt.month],group_keys=False)['Date']\n",
        "  individualdf.groupby([individualdf.Date.dt.year, individualdf.Date.dt.month],group_keys=False).max()\n",
        "  individualdf['EOM'] = groupings.transform(lambda x: x.max())\n",
        "  individualdf['EOM_rolling_skew'] = groupings.transform(lambda x: individualdf[individualdf[\"Date\"] == x.max()].rolling_skew)\n",
        "  individualdf['EOM_rolling_skew_lookback'] = individualdf.EOM_rolling_skew.shift(1)\n",
        "  groupings = individualdf.groupby([individualdf.Date.dt.year, individualdf.Date.dt.month],group_keys=False)['EOM_rolling_skew']\n",
        "  individualdf['EOM_rolling_skew'] = groupings.transform(lambda x: x.max())\n",
        "  groupings = individualdf.groupby([individualdf.Date.dt.year, individualdf.Date.dt.month],group_keys=False)['EOM_rolling_skew_lookback']\n",
        "  individualdf['EOM_rolling_skew_lookback'] = groupings.transform(lambda x: x.max())\n",
        "\n",
        "  alldatacommodities.append(individualdf)\n",
        "\n",
        "alldatacommodities"
      ],
      "metadata": {
        "colab": {
          "base_uri": "https://localhost:8080/"
        },
        "id": "nDpliLN0Qa6T",
        "outputId": "71bd06f1-336b-4cbe-e294-ce523267eef7"
      },
      "execution_count": null,
      "outputs": [
        {
          "output_type": "stream",
          "name": "stderr",
          "text": [
            "[*********************100%%**********************]  1 of 1 completed\n",
            "[*********************100%%**********************]  1 of 1 completed\n",
            "[*********************100%%**********************]  1 of 1 completed\n",
            "[*********************100%%**********************]  1 of 1 completed\n",
            "[*********************100%%**********************]  1 of 1 completed\n",
            "[*********************100%%**********************]  1 of 1 completed\n",
            "[*********************100%%**********************]  1 of 1 completed\n"
          ]
        },
        {
          "output_type": "execute_result",
          "data": {
            "text/plain": [
              "[           Date       Close Ticker  pct_change       ret  rolling_mean  \\\n",
              " 0    2015-01-02  114.080002    GLD         NaN       NaN           NaN   \n",
              " 1    2015-01-05  115.800003    GLD    0.015077  0.014965           NaN   \n",
              " 2    2015-01-06  117.120003    GLD    0.011399  0.011334           NaN   \n",
              " 3    2015-01-07  116.430000    GLD   -0.005891 -0.005909           NaN   \n",
              " 4    2015-01-08  115.940002    GLD   -0.004209 -0.004217           NaN   \n",
              " ...         ...         ...    ...         ...       ...           ...   \n",
              " 2320 2024-03-22  200.350006    GLD   -0.008021 -0.008053      0.000450   \n",
              " 2321 2024-03-25  200.990005    GLD    0.003194  0.003189      0.000350   \n",
              " 2322 2024-03-26  201.639999    GLD    0.003234  0.003229      0.000361   \n",
              " 2323 2024-03-27  203.100006    GLD    0.007241  0.007215      0.000464   \n",
              " 2324 2024-03-28  205.720001    GLD    0.012900  0.012818      0.000448   \n",
              " \n",
              "       rolling_std  skew_day  rolling_skew        EOM  EOM_rolling_skew  \\\n",
              " 0             NaN       NaN           NaN 2015-01-30               NaN   \n",
              " 1             NaN       NaN           NaN 2015-01-30               NaN   \n",
              " 2             NaN       NaN           NaN 2015-01-30               NaN   \n",
              " 3             NaN       NaN           NaN 2015-01-30               NaN   \n",
              " 4             NaN       NaN           NaN 2015-01-30               NaN   \n",
              " ...           ...       ...           ...        ...               ...   \n",
              " 2320     0.007818 -1.286600      0.315197 2024-03-28          0.240299   \n",
              " 2321     0.007616  0.051818      0.210425 2024-03-28          0.240299   \n",
              " 2322     0.007618  0.053338      0.210633 2024-03-28          0.240299   \n",
              " 2323     0.007532  0.719991      0.243620 2024-03-28          0.240299   \n",
              " 2324     0.007502  4.483327      0.240299 2024-03-28          0.240299   \n",
              " \n",
              "       EOM_rolling_skew_lookback  \n",
              " 0                           NaN  \n",
              " 1                           NaN  \n",
              " 2                           NaN  \n",
              " 3                           NaN  \n",
              " 4                           NaN  \n",
              " ...                         ...  \n",
              " 2320                   0.317191  \n",
              " 2321                   0.317191  \n",
              " 2322                   0.317191  \n",
              " 2323                   0.317191  \n",
              " 2324                   0.317191  \n",
              " \n",
              " [2325 rows x 12 columns],\n",
              "            Date      Close Ticker  pct_change       ret  rolling_mean  \\\n",
              " 0    2015-01-02  15.110000    SLV         NaN       NaN           NaN   \n",
              " 1    2015-01-05  15.500000    SLV    0.025811  0.025483           NaN   \n",
              " 2    2015-01-06  15.830000    SLV    0.021290  0.021067           NaN   \n",
              " 3    2015-01-07  15.850000    SLV    0.001263  0.001263           NaN   \n",
              " 4    2015-01-08  15.640000    SLV   -0.013249 -0.013338           NaN   \n",
              " ...         ...        ...    ...         ...       ...           ...   \n",
              " 2320 2024-03-22  22.559999    SLV   -0.003974 -0.003981      0.000486   \n",
              " 2321 2024-03-25  22.580000    SLV    0.000887  0.000886      0.000353   \n",
              " 2322 2024-03-26  22.340000    SLV   -0.010629 -0.010686      0.000300   \n",
              " 2323 2024-03-27  22.510000    SLV    0.007610  0.007581      0.000358   \n",
              " 2324 2024-03-28  22.750000    SLV    0.010662  0.010605      0.000294   \n",
              " \n",
              "       rolling_std  skew_day  rolling_skew        EOM  EOM_rolling_skew  \\\n",
              " 0             NaN       NaN           NaN 2015-01-30               NaN   \n",
              " 1             NaN       NaN           NaN 2015-01-30               NaN   \n",
              " 2             NaN       NaN           NaN 2015-01-30               NaN   \n",
              " 3             NaN       NaN           NaN 2015-01-30               NaN   \n",
              " 4             NaN       NaN           NaN 2015-01-30               NaN   \n",
              " ...           ...       ...           ...        ...               ...   \n",
              " 2320     0.015040 -0.026208      0.098882 2024-03-28          0.062796   \n",
              " 2321     0.014884  0.000046      0.073724 2024-03-28          0.062796   \n",
              " 2322     0.014899 -0.400878      0.072135 2024-03-28          0.062796   \n",
              " 2323     0.014898  0.113970      0.072758 2024-03-28          0.062796   \n",
              " 2324     0.014819  0.336910      0.062796 2024-03-28          0.062796   \n",
              " \n",
              "       EOM_rolling_skew_lookback  \n",
              " 0                           NaN  \n",
              " 1                           NaN  \n",
              " 2                           NaN  \n",
              " 3                           NaN  \n",
              " 4                           NaN  \n",
              " ...                         ...  \n",
              " 2320                   0.097062  \n",
              " 2321                   0.097062  \n",
              " 2322                   0.097062  \n",
              " 2323                   0.097062  \n",
              " 2324                   0.097062  \n",
              " \n",
              " [2325 rows x 12 columns],\n",
              "            Date      Close Ticker  pct_change       ret  rolling_mean  \\\n",
              " 0    2015-01-02  21.219999    GSG         NaN       NaN           NaN   \n",
              " 1    2015-01-05  20.620001    GSG   -0.028275 -0.028683           NaN   \n",
              " 2    2015-01-06  20.280001    GSG   -0.016489 -0.016626           NaN   \n",
              " 3    2015-01-07  20.219999    GSG   -0.002959 -0.002963           NaN   \n",
              " 4    2015-01-08  20.290001    GSG    0.003462  0.003456           NaN   \n",
              " ...         ...        ...    ...         ...       ...           ...   \n",
              " 2320 2024-03-22  21.799999    GSG   -0.003656 -0.003663      0.000525   \n",
              " 2321 2024-03-25  21.980000    GSG    0.008257  0.008223      0.000592   \n",
              " 2322 2024-03-26  21.809999    GSG   -0.007734 -0.007764      0.000535   \n",
              " 2323 2024-03-27  21.830000    GSG    0.000917  0.000917      0.000499   \n",
              " 2324 2024-03-28  22.059999    GSG    0.010536  0.010481      0.000534   \n",
              " \n",
              "       rolling_std  skew_day  rolling_skew        EOM  EOM_rolling_skew  \\\n",
              " 0             NaN       NaN           NaN 2015-01-30               NaN   \n",
              " 1             NaN       NaN           NaN 2015-01-30               NaN   \n",
              " 2             NaN       NaN           NaN 2015-01-30               NaN   \n",
              " 3             NaN       NaN           NaN 2015-01-30               NaN   \n",
              " 4             NaN       NaN           NaN 2015-01-30               NaN   \n",
              " ...           ...       ...           ...        ...               ...   \n",
              " 2320     0.011304 -0.050849     -0.073154 2024-03-28         -0.071546   \n",
              " 2321     0.011298  0.308158     -0.071577 2024-03-28         -0.071546   \n",
              " 2322     0.011303 -0.395809     -0.073415 2024-03-28         -0.071546   \n",
              " 2323     0.011288  0.000050     -0.074202 2024-03-28         -0.071546   \n",
              " 2324     0.011305  0.681124     -0.071546 2024-03-28         -0.071546   \n",
              " \n",
              "       EOM_rolling_skew_lookback  \n",
              " 0                           NaN  \n",
              " 1                           NaN  \n",
              " 2                           NaN  \n",
              " 3                           NaN  \n",
              " 4                           NaN  \n",
              " ...                         ...  \n",
              " 2320                  -0.107685  \n",
              " 2321                  -0.107685  \n",
              " 2322                  -0.107685  \n",
              " 2323                  -0.107685  \n",
              " 2324                  -0.107685  \n",
              " \n",
              " [2325 rows x 12 columns],\n",
              "            Date       Close Ticker  pct_change       ret  rolling_mean  \\\n",
              " 0    2015-01-02  159.119995    USO         NaN       NaN           NaN   \n",
              " 1    2015-01-05  150.320007    USO   -0.055304 -0.056892           NaN   \n",
              " 2    2015-01-06  144.399994    USO   -0.039383 -0.040179           NaN   \n",
              " 3    2015-01-07  146.960007    USO    0.017729  0.017573           NaN   \n",
              " 4    2015-01-08  148.399994    USO    0.009798  0.009751           NaN   \n",
              " ...         ...         ...    ...         ...       ...           ...   \n",
              " 2320 2024-03-22   76.680000    USO   -0.001822 -0.001824      0.000955   \n",
              " 2321 2024-03-25   77.760002    USO    0.014085  0.013986      0.001101   \n",
              " 2322 2024-03-26   77.290001    USO   -0.006044 -0.006063      0.001003   \n",
              " 2323 2024-03-27   77.510002    USO    0.002846  0.002842      0.000921   \n",
              " 2324 2024-03-28   78.730003    USO    0.015740  0.015617      0.000958   \n",
              " \n",
              "       rolling_std  skew_day  rolling_skew        EOM  EOM_rolling_skew  \\\n",
              " 0             NaN       NaN           NaN 2015-01-30               NaN   \n",
              " 1             NaN       NaN           NaN 2015-01-30               NaN   \n",
              " 2             NaN       NaN           NaN 2015-01-30               NaN   \n",
              " 3             NaN       NaN           NaN 2015-01-30               NaN   \n",
              " 4             NaN       NaN           NaN 2015-01-30               NaN   \n",
              " ...           ...       ...           ...        ...               ...   \n",
              " 2320     0.018613 -0.003328     -0.118061 2024-03-28         -0.117802   \n",
              " 2321     0.018568  0.334186     -0.114106 2024-03-28         -0.117802   \n",
              " 2322     0.018539 -0.055356     -0.116202 2024-03-28         -0.117802   \n",
              " 2323     0.018484  0.001123     -0.119674 2024-03-28         -0.117802   \n",
              " 2324     0.018504  0.497242     -0.117802 2024-03-28         -0.117802   \n",
              " \n",
              "       EOM_rolling_skew_lookback  \n",
              " 0                           NaN  \n",
              " 1                           NaN  \n",
              " 2                           NaN  \n",
              " 3                           NaN  \n",
              " 4                           NaN  \n",
              " ...                         ...  \n",
              " 2320                  -0.172024  \n",
              " 2321                  -0.172024  \n",
              " 2322                  -0.172024  \n",
              " 2323                  -0.172024  \n",
              " 2324                  -0.172024  \n",
              " \n",
              " [2325 rows x 12 columns],\n",
              "            Date       Close Ticker  pct_change       ret  rolling_mean  \\\n",
              " 0    2015-01-02  116.570000   PPLT         NaN       NaN           NaN   \n",
              " 1    2015-01-05  117.599998   PPLT    0.008836  0.008797           NaN   \n",
              " 2    2015-01-06  118.540001   PPLT    0.007993  0.007961           NaN   \n",
              " 3    2015-01-07  118.320000   PPLT   -0.001856 -0.001858           NaN   \n",
              " 4    2015-01-08  118.110001   PPLT   -0.001775 -0.001776           NaN   \n",
              " ...         ...         ...    ...         ...       ...           ...   \n",
              " 2320 2024-03-22   82.360001   PPLT   -0.013535 -0.013627     -0.000359   \n",
              " 2321 2024-03-25   83.110001   PPLT    0.009106  0.009065     -0.000315   \n",
              " 2322 2024-03-26   83.099998   PPLT   -0.000120 -0.000120     -0.000371   \n",
              " 2323 2024-03-27   82.639999   PPLT   -0.005535 -0.005551     -0.000331   \n",
              " 2324 2024-03-28   83.550003   PPLT    0.011012  0.010951     -0.000346   \n",
              " \n",
              "       rolling_std  skew_day  rolling_skew        EOM  EOM_rolling_skew  \\\n",
              " 0             NaN       NaN           NaN 2015-01-30               NaN   \n",
              " 1             NaN       NaN           NaN 2015-01-30               NaN   \n",
              " 2             NaN       NaN           NaN 2015-01-30               NaN   \n",
              " 3             NaN       NaN           NaN 2015-01-30               NaN   \n",
              " 4             NaN       NaN           NaN 2015-01-30               NaN   \n",
              " ...           ...       ...           ...        ...               ...   \n",
              " 2320     0.014377 -0.786090      0.008433 2024-03-28          0.009627   \n",
              " 2321     0.014388  0.277080      0.009518 2024-03-28          0.009627   \n",
              " 2322     0.014359  0.000005      0.007688 2024-03-28          0.009627   \n",
              " 2323     0.014331 -0.048324      0.009728 2024-03-28          0.009627   \n",
              " 2324     0.014317  0.491391      0.009627 2024-03-28          0.009627   \n",
              " \n",
              "       EOM_rolling_skew_lookback  \n",
              " 0                           NaN  \n",
              " 1                           NaN  \n",
              " 2                           NaN  \n",
              " 3                           NaN  \n",
              " 4                           NaN  \n",
              " ...                         ...  \n",
              " 2320                   -0.04676  \n",
              " 2321                   -0.04676  \n",
              " 2322                   -0.04676  \n",
              " 2323                   -0.04676  \n",
              " 2324                   -0.04676  \n",
              " \n",
              " [2325 rows x 12 columns],\n",
              "            Date       Close Ticker  pct_change       ret  rolling_mean  \\\n",
              " 0    2015-01-02  239.360001    UNG         NaN       NaN           NaN   \n",
              " 1    2015-01-05  237.919998    UNG   -0.006016 -0.006034           NaN   \n",
              " 2    2015-01-06  238.880005    UNG    0.004035  0.004027           NaN   \n",
              " 3    2015-01-07  233.279999    UNG   -0.023443 -0.023722           NaN   \n",
              " 4    2015-01-08  239.039993    UNG    0.024691  0.024391           NaN   \n",
              " ...         ...         ...    ...         ...       ...           ...   \n",
              " 2320 2024-03-22   15.110000    UNG   -0.013708 -0.013802     -0.003094   \n",
              " 2321 2024-03-25   15.040000    UNG   -0.004633 -0.004643     -0.002850   \n",
              " 2322 2024-03-26   14.960000    UNG   -0.005319 -0.005333     -0.002697   \n",
              " 2323 2024-03-27   14.350000    UNG   -0.040775 -0.041630     -0.002999   \n",
              " 2324 2024-03-28   14.570000    UNG    0.015331  0.015215     -0.002758   \n",
              " \n",
              "       rolling_std  skew_day  rolling_skew        EOM  EOM_rolling_skew  \\\n",
              " 0             NaN       NaN           NaN 2015-01-30               NaN   \n",
              " 1             NaN       NaN           NaN 2015-01-30               NaN   \n",
              " 2             NaN       NaN           NaN 2015-01-30               NaN   \n",
              " 3             NaN       NaN           NaN 2015-01-30               NaN   \n",
              " 4             NaN       NaN           NaN 2015-01-30               NaN   \n",
              " ...           ...       ...           ...        ...               ...   \n",
              " 2320     0.035324 -0.027860     -0.016252 2024-03-28         -0.009509   \n",
              " 2321     0.035097 -0.000133     -0.007814 2024-03-28         -0.009509   \n",
              " 2322     0.034999 -0.000427     -0.005542 2024-03-28         -0.009509   \n",
              " 2323     0.035001 -1.344572     -0.012619 2024-03-28         -0.009509   \n",
              " 2324     0.034913  0.136420     -0.009509 2024-03-28         -0.009509   \n",
              " \n",
              "       EOM_rolling_skew_lookback  \n",
              " 0                           NaN  \n",
              " 1                           NaN  \n",
              " 2                           NaN  \n",
              " 3                           NaN  \n",
              " 4                           NaN  \n",
              " ...                         ...  \n",
              " 2320                  -0.032926  \n",
              " 2321                  -0.032926  \n",
              " 2322                  -0.032926  \n",
              " 2323                  -0.032926  \n",
              " 2324                  -0.032926  \n",
              " \n",
              " [2325 rows x 12 columns],\n",
              "            Date      Close Ticker  pct_change       ret  rolling_mean  \\\n",
              " 0    2015-01-02  24.639999    DBA         NaN       NaN           NaN   \n",
              " 1    2015-01-05  24.940001    DBA    0.012175  0.012102           NaN   \n",
              " 2    2015-01-06  25.110001    DBA    0.006816  0.006793           NaN   \n",
              " 3    2015-01-07  24.990000    DBA   -0.004779 -0.004790           NaN   \n",
              " 4    2015-01-08  24.900000    DBA   -0.003601 -0.003608           NaN   \n",
              " ...         ...        ...    ...         ...       ...           ...   \n",
              " 2320 2024-03-22  24.080000    DBA    0.006689  0.006667      0.000755   \n",
              " 2321 2024-03-25  24.639999    DBA    0.023256  0.022989      0.000848   \n",
              " 2322 2024-03-26  24.520000    DBA   -0.004870 -0.004882      0.000831   \n",
              " 2323 2024-03-27  24.670000    DBA    0.006117  0.006099      0.000851   \n",
              " 2324 2024-03-28  24.760000    DBA    0.003648  0.003642      0.000879   \n",
              " \n",
              "       rolling_std   skew_day  rolling_skew        EOM  EOM_rolling_skew  \\\n",
              " 0             NaN        NaN           NaN 2015-01-30               NaN   \n",
              " 1             NaN        NaN           NaN 2015-01-30               NaN   \n",
              " 2             NaN        NaN           NaN 2015-01-30               NaN   \n",
              " 3             NaN        NaN           NaN 2015-01-30               NaN   \n",
              " 4             NaN        NaN           NaN 2015-01-30               NaN   \n",
              " ...           ...        ...           ...        ...               ...   \n",
              " 2320     0.007805   0.434550     -0.622806 2024-03-28         -0.537701   \n",
              " 2321     0.007927  21.788557     -0.537693 2024-03-28         -0.537701   \n",
              " 2322     0.007935  -0.373263     -0.539151 2024-03-28         -0.537701   \n",
              " 2323     0.007942   0.288505     -0.538039 2024-03-28         -0.537701   \n",
              " 2324     0.007939   0.042128     -0.537701 2024-03-28         -0.537701   \n",
              " \n",
              "       EOM_rolling_skew_lookback  \n",
              " 0                           NaN  \n",
              " 1                           NaN  \n",
              " 2                           NaN  \n",
              " 3                           NaN  \n",
              " 4                           NaN  \n",
              " ...                         ...  \n",
              " 2320                  -0.754285  \n",
              " 2321                  -0.754285  \n",
              " 2322                  -0.754285  \n",
              " 2323                  -0.754285  \n",
              " 2324                  -0.754285  \n",
              " \n",
              " [2325 rows x 12 columns]]"
            ]
          },
          "metadata": {},
          "execution_count": 53
        }
      ]
    },
    {
      "cell_type": "markdown",
      "source": [
        "Add all ETF dataframes into one single dataframe"
      ],
      "metadata": {
        "id": "YRUOWE1ea9GZ"
      }
    },
    {
      "cell_type": "code",
      "source": [
        "alldatacommodities_df = pd.concat(alldatacommodities)\n",
        "alldatacommodities_df.tail(5)"
      ],
      "metadata": {
        "colab": {
          "base_uri": "https://localhost:8080/",
          "height": 226
        },
        "id": "QwuJNID1Qoev",
        "outputId": "fa186e4c-8e87-4063-c3b8-991dc4b48fef"
      },
      "execution_count": null,
      "outputs": [
        {
          "output_type": "execute_result",
          "data": {
            "text/plain": [
              "           Date      Close Ticker  pct_change       ret  rolling_mean  \\\n",
              "2320 2024-03-22  24.080000    DBA    0.006689  0.006667      0.000755   \n",
              "2321 2024-03-25  24.639999    DBA    0.023256  0.022989      0.000848   \n",
              "2322 2024-03-26  24.520000    DBA   -0.004870 -0.004882      0.000831   \n",
              "2323 2024-03-27  24.670000    DBA    0.006117  0.006099      0.000851   \n",
              "2324 2024-03-28  24.760000    DBA    0.003648  0.003642      0.000879   \n",
              "\n",
              "      rolling_std   skew_day  rolling_skew        EOM  EOM_rolling_skew  \\\n",
              "2320     0.007805   0.434550     -0.622806 2024-03-28         -0.537701   \n",
              "2321     0.007927  21.788557     -0.537693 2024-03-28         -0.537701   \n",
              "2322     0.007935  -0.373263     -0.539151 2024-03-28         -0.537701   \n",
              "2323     0.007942   0.288505     -0.538039 2024-03-28         -0.537701   \n",
              "2324     0.007939   0.042128     -0.537701 2024-03-28         -0.537701   \n",
              "\n",
              "      EOM_rolling_skew_lookback  \n",
              "2320                  -0.754285  \n",
              "2321                  -0.754285  \n",
              "2322                  -0.754285  \n",
              "2323                  -0.754285  \n",
              "2324                  -0.754285  "
            ],
            "text/html": [
              "\n",
              "  <div id=\"df-856dc9a8-c7e1-47fe-956b-54a230607520\" class=\"colab-df-container\">\n",
              "    <div>\n",
              "<style scoped>\n",
              "    .dataframe tbody tr th:only-of-type {\n",
              "        vertical-align: middle;\n",
              "    }\n",
              "\n",
              "    .dataframe tbody tr th {\n",
              "        vertical-align: top;\n",
              "    }\n",
              "\n",
              "    .dataframe thead th {\n",
              "        text-align: right;\n",
              "    }\n",
              "</style>\n",
              "<table border=\"1\" class=\"dataframe\">\n",
              "  <thead>\n",
              "    <tr style=\"text-align: right;\">\n",
              "      <th></th>\n",
              "      <th>Date</th>\n",
              "      <th>Close</th>\n",
              "      <th>Ticker</th>\n",
              "      <th>pct_change</th>\n",
              "      <th>ret</th>\n",
              "      <th>rolling_mean</th>\n",
              "      <th>rolling_std</th>\n",
              "      <th>skew_day</th>\n",
              "      <th>rolling_skew</th>\n",
              "      <th>EOM</th>\n",
              "      <th>EOM_rolling_skew</th>\n",
              "      <th>EOM_rolling_skew_lookback</th>\n",
              "    </tr>\n",
              "  </thead>\n",
              "  <tbody>\n",
              "    <tr>\n",
              "      <th>2320</th>\n",
              "      <td>2024-03-22</td>\n",
              "      <td>24.080000</td>\n",
              "      <td>DBA</td>\n",
              "      <td>0.006689</td>\n",
              "      <td>0.006667</td>\n",
              "      <td>0.000755</td>\n",
              "      <td>0.007805</td>\n",
              "      <td>0.434550</td>\n",
              "      <td>-0.622806</td>\n",
              "      <td>2024-03-28</td>\n",
              "      <td>-0.537701</td>\n",
              "      <td>-0.754285</td>\n",
              "    </tr>\n",
              "    <tr>\n",
              "      <th>2321</th>\n",
              "      <td>2024-03-25</td>\n",
              "      <td>24.639999</td>\n",
              "      <td>DBA</td>\n",
              "      <td>0.023256</td>\n",
              "      <td>0.022989</td>\n",
              "      <td>0.000848</td>\n",
              "      <td>0.007927</td>\n",
              "      <td>21.788557</td>\n",
              "      <td>-0.537693</td>\n",
              "      <td>2024-03-28</td>\n",
              "      <td>-0.537701</td>\n",
              "      <td>-0.754285</td>\n",
              "    </tr>\n",
              "    <tr>\n",
              "      <th>2322</th>\n",
              "      <td>2024-03-26</td>\n",
              "      <td>24.520000</td>\n",
              "      <td>DBA</td>\n",
              "      <td>-0.004870</td>\n",
              "      <td>-0.004882</td>\n",
              "      <td>0.000831</td>\n",
              "      <td>0.007935</td>\n",
              "      <td>-0.373263</td>\n",
              "      <td>-0.539151</td>\n",
              "      <td>2024-03-28</td>\n",
              "      <td>-0.537701</td>\n",
              "      <td>-0.754285</td>\n",
              "    </tr>\n",
              "    <tr>\n",
              "      <th>2323</th>\n",
              "      <td>2024-03-27</td>\n",
              "      <td>24.670000</td>\n",
              "      <td>DBA</td>\n",
              "      <td>0.006117</td>\n",
              "      <td>0.006099</td>\n",
              "      <td>0.000851</td>\n",
              "      <td>0.007942</td>\n",
              "      <td>0.288505</td>\n",
              "      <td>-0.538039</td>\n",
              "      <td>2024-03-28</td>\n",
              "      <td>-0.537701</td>\n",
              "      <td>-0.754285</td>\n",
              "    </tr>\n",
              "    <tr>\n",
              "      <th>2324</th>\n",
              "      <td>2024-03-28</td>\n",
              "      <td>24.760000</td>\n",
              "      <td>DBA</td>\n",
              "      <td>0.003648</td>\n",
              "      <td>0.003642</td>\n",
              "      <td>0.000879</td>\n",
              "      <td>0.007939</td>\n",
              "      <td>0.042128</td>\n",
              "      <td>-0.537701</td>\n",
              "      <td>2024-03-28</td>\n",
              "      <td>-0.537701</td>\n",
              "      <td>-0.754285</td>\n",
              "    </tr>\n",
              "  </tbody>\n",
              "</table>\n",
              "</div>\n",
              "    <div class=\"colab-df-buttons\">\n",
              "\n",
              "  <div class=\"colab-df-container\">\n",
              "    <button class=\"colab-df-convert\" onclick=\"convertToInteractive('df-856dc9a8-c7e1-47fe-956b-54a230607520')\"\n",
              "            title=\"Convert this dataframe to an interactive table.\"\n",
              "            style=\"display:none;\">\n",
              "\n",
              "  <svg xmlns=\"http://www.w3.org/2000/svg\" height=\"24px\" viewBox=\"0 -960 960 960\">\n",
              "    <path d=\"M120-120v-720h720v720H120Zm60-500h600v-160H180v160Zm220 220h160v-160H400v160Zm0 220h160v-160H400v160ZM180-400h160v-160H180v160Zm440 0h160v-160H620v160ZM180-180h160v-160H180v160Zm440 0h160v-160H620v160Z\"/>\n",
              "  </svg>\n",
              "    </button>\n",
              "\n",
              "  <style>\n",
              "    .colab-df-container {\n",
              "      display:flex;\n",
              "      gap: 12px;\n",
              "    }\n",
              "\n",
              "    .colab-df-convert {\n",
              "      background-color: #E8F0FE;\n",
              "      border: none;\n",
              "      border-radius: 50%;\n",
              "      cursor: pointer;\n",
              "      display: none;\n",
              "      fill: #1967D2;\n",
              "      height: 32px;\n",
              "      padding: 0 0 0 0;\n",
              "      width: 32px;\n",
              "    }\n",
              "\n",
              "    .colab-df-convert:hover {\n",
              "      background-color: #E2EBFA;\n",
              "      box-shadow: 0px 1px 2px rgba(60, 64, 67, 0.3), 0px 1px 3px 1px rgba(60, 64, 67, 0.15);\n",
              "      fill: #174EA6;\n",
              "    }\n",
              "\n",
              "    .colab-df-buttons div {\n",
              "      margin-bottom: 4px;\n",
              "    }\n",
              "\n",
              "    [theme=dark] .colab-df-convert {\n",
              "      background-color: #3B4455;\n",
              "      fill: #D2E3FC;\n",
              "    }\n",
              "\n",
              "    [theme=dark] .colab-df-convert:hover {\n",
              "      background-color: #434B5C;\n",
              "      box-shadow: 0px 1px 3px 1px rgba(0, 0, 0, 0.15);\n",
              "      filter: drop-shadow(0px 1px 2px rgba(0, 0, 0, 0.3));\n",
              "      fill: #FFFFFF;\n",
              "    }\n",
              "  </style>\n",
              "\n",
              "    <script>\n",
              "      const buttonEl =\n",
              "        document.querySelector('#df-856dc9a8-c7e1-47fe-956b-54a230607520 button.colab-df-convert');\n",
              "      buttonEl.style.display =\n",
              "        google.colab.kernel.accessAllowed ? 'block' : 'none';\n",
              "\n",
              "      async function convertToInteractive(key) {\n",
              "        const element = document.querySelector('#df-856dc9a8-c7e1-47fe-956b-54a230607520');\n",
              "        const dataTable =\n",
              "          await google.colab.kernel.invokeFunction('convertToInteractive',\n",
              "                                                    [key], {});\n",
              "        if (!dataTable) return;\n",
              "\n",
              "        const docLinkHtml = 'Like what you see? Visit the ' +\n",
              "          '<a target=\"_blank\" href=https://colab.research.google.com/notebooks/data_table.ipynb>data table notebook</a>'\n",
              "          + ' to learn more about interactive tables.';\n",
              "        element.innerHTML = '';\n",
              "        dataTable['output_type'] = 'display_data';\n",
              "        await google.colab.output.renderOutput(dataTable, element);\n",
              "        const docLink = document.createElement('div');\n",
              "        docLink.innerHTML = docLinkHtml;\n",
              "        element.appendChild(docLink);\n",
              "      }\n",
              "    </script>\n",
              "  </div>\n",
              "\n",
              "\n",
              "<div id=\"df-91bfcc0a-2fe1-4ee4-95e8-5b5c8b5077bb\">\n",
              "  <button class=\"colab-df-quickchart\" onclick=\"quickchart('df-91bfcc0a-2fe1-4ee4-95e8-5b5c8b5077bb')\"\n",
              "            title=\"Suggest charts\"\n",
              "            style=\"display:none;\">\n",
              "\n",
              "<svg xmlns=\"http://www.w3.org/2000/svg\" height=\"24px\"viewBox=\"0 0 24 24\"\n",
              "     width=\"24px\">\n",
              "    <g>\n",
              "        <path d=\"M19 3H5c-1.1 0-2 .9-2 2v14c0 1.1.9 2 2 2h14c1.1 0 2-.9 2-2V5c0-1.1-.9-2-2-2zM9 17H7v-7h2v7zm4 0h-2V7h2v10zm4 0h-2v-4h2v4z\"/>\n",
              "    </g>\n",
              "</svg>\n",
              "  </button>\n",
              "\n",
              "<style>\n",
              "  .colab-df-quickchart {\n",
              "      --bg-color: #E8F0FE;\n",
              "      --fill-color: #1967D2;\n",
              "      --hover-bg-color: #E2EBFA;\n",
              "      --hover-fill-color: #174EA6;\n",
              "      --disabled-fill-color: #AAA;\n",
              "      --disabled-bg-color: #DDD;\n",
              "  }\n",
              "\n",
              "  [theme=dark] .colab-df-quickchart {\n",
              "      --bg-color: #3B4455;\n",
              "      --fill-color: #D2E3FC;\n",
              "      --hover-bg-color: #434B5C;\n",
              "      --hover-fill-color: #FFFFFF;\n",
              "      --disabled-bg-color: #3B4455;\n",
              "      --disabled-fill-color: #666;\n",
              "  }\n",
              "\n",
              "  .colab-df-quickchart {\n",
              "    background-color: var(--bg-color);\n",
              "    border: none;\n",
              "    border-radius: 50%;\n",
              "    cursor: pointer;\n",
              "    display: none;\n",
              "    fill: var(--fill-color);\n",
              "    height: 32px;\n",
              "    padding: 0;\n",
              "    width: 32px;\n",
              "  }\n",
              "\n",
              "  .colab-df-quickchart:hover {\n",
              "    background-color: var(--hover-bg-color);\n",
              "    box-shadow: 0 1px 2px rgba(60, 64, 67, 0.3), 0 1px 3px 1px rgba(60, 64, 67, 0.15);\n",
              "    fill: var(--button-hover-fill-color);\n",
              "  }\n",
              "\n",
              "  .colab-df-quickchart-complete:disabled,\n",
              "  .colab-df-quickchart-complete:disabled:hover {\n",
              "    background-color: var(--disabled-bg-color);\n",
              "    fill: var(--disabled-fill-color);\n",
              "    box-shadow: none;\n",
              "  }\n",
              "\n",
              "  .colab-df-spinner {\n",
              "    border: 2px solid var(--fill-color);\n",
              "    border-color: transparent;\n",
              "    border-bottom-color: var(--fill-color);\n",
              "    animation:\n",
              "      spin 1s steps(1) infinite;\n",
              "  }\n",
              "\n",
              "  @keyframes spin {\n",
              "    0% {\n",
              "      border-color: transparent;\n",
              "      border-bottom-color: var(--fill-color);\n",
              "      border-left-color: var(--fill-color);\n",
              "    }\n",
              "    20% {\n",
              "      border-color: transparent;\n",
              "      border-left-color: var(--fill-color);\n",
              "      border-top-color: var(--fill-color);\n",
              "    }\n",
              "    30% {\n",
              "      border-color: transparent;\n",
              "      border-left-color: var(--fill-color);\n",
              "      border-top-color: var(--fill-color);\n",
              "      border-right-color: var(--fill-color);\n",
              "    }\n",
              "    40% {\n",
              "      border-color: transparent;\n",
              "      border-right-color: var(--fill-color);\n",
              "      border-top-color: var(--fill-color);\n",
              "    }\n",
              "    60% {\n",
              "      border-color: transparent;\n",
              "      border-right-color: var(--fill-color);\n",
              "    }\n",
              "    80% {\n",
              "      border-color: transparent;\n",
              "      border-right-color: var(--fill-color);\n",
              "      border-bottom-color: var(--fill-color);\n",
              "    }\n",
              "    90% {\n",
              "      border-color: transparent;\n",
              "      border-bottom-color: var(--fill-color);\n",
              "    }\n",
              "  }\n",
              "</style>\n",
              "\n",
              "  <script>\n",
              "    async function quickchart(key) {\n",
              "      const quickchartButtonEl =\n",
              "        document.querySelector('#' + key + ' button');\n",
              "      quickchartButtonEl.disabled = true;  // To prevent multiple clicks.\n",
              "      quickchartButtonEl.classList.add('colab-df-spinner');\n",
              "      try {\n",
              "        const charts = await google.colab.kernel.invokeFunction(\n",
              "            'suggestCharts', [key], {});\n",
              "      } catch (error) {\n",
              "        console.error('Error during call to suggestCharts:', error);\n",
              "      }\n",
              "      quickchartButtonEl.classList.remove('colab-df-spinner');\n",
              "      quickchartButtonEl.classList.add('colab-df-quickchart-complete');\n",
              "    }\n",
              "    (() => {\n",
              "      let quickchartButtonEl =\n",
              "        document.querySelector('#df-91bfcc0a-2fe1-4ee4-95e8-5b5c8b5077bb button');\n",
              "      quickchartButtonEl.style.display =\n",
              "        google.colab.kernel.accessAllowed ? 'block' : 'none';\n",
              "    })();\n",
              "  </script>\n",
              "</div>\n",
              "    </div>\n",
              "  </div>\n"
            ],
            "application/vnd.google.colaboratory.intrinsic+json": {
              "type": "dataframe",
              "summary": "{\n  \"name\": \"alldatacommodities_df\",\n  \"rows\": 5,\n  \"fields\": [\n    {\n      \"column\": \"Date\",\n      \"properties\": {\n        \"dtype\": \"date\",\n        \"min\": \"2024-03-22 00:00:00\",\n        \"max\": \"2024-03-28 00:00:00\",\n        \"num_unique_values\": 5,\n        \"samples\": [\n          \"2024-03-25 00:00:00\",\n          \"2024-03-28 00:00:00\",\n          \"2024-03-26 00:00:00\"\n        ],\n        \"semantic_type\": \"\",\n        \"description\": \"\"\n      }\n    },\n    {\n      \"column\": \"Close\",\n      \"properties\": {\n        \"dtype\": \"number\",\n        \"std\": 0.2679179217923729,\n        \"min\": 24.079999923706055,\n        \"max\": 24.760000228881836,\n        \"num_unique_values\": 5,\n        \"samples\": [\n          24.639999389648438,\n          24.760000228881836,\n          24.520000457763672\n        ],\n        \"semantic_type\": \"\",\n        \"description\": \"\"\n      }\n    },\n    {\n      \"column\": \"Ticker\",\n      \"properties\": {\n        \"dtype\": \"category\",\n        \"num_unique_values\": 1,\n        \"samples\": [\n          \"DBA\"\n        ],\n        \"semantic_type\": \"\",\n        \"description\": \"\"\n      }\n    },\n    {\n      \"column\": \"pct_change\",\n      \"properties\": {\n        \"dtype\": \"number\",\n        \"std\": 0.010213411555908871,\n        \"min\": -0.0048700866419331135,\n        \"max\": 0.023255791848698415,\n        \"num_unique_values\": 5,\n        \"samples\": [\n          0.023255791848698415\n        ],\n        \"semantic_type\": \"\",\n        \"description\": \"\"\n      }\n    },\n    {\n      \"column\": \"ret\",\n      \"properties\": {\n        \"dtype\": \"number\",\n        \"std\": 0.010111886949502888,\n        \"min\": -0.004881984157555586,\n        \"max\": 0.02298949662229033,\n        \"num_unique_values\": 5,\n        \"samples\": [\n          0.02298949662229033\n        ],\n        \"semantic_type\": \"\",\n        \"description\": \"\"\n      }\n    },\n    {\n      \"column\": \"rolling_mean\",\n      \"properties\": {\n        \"dtype\": \"number\",\n        \"std\": 4.7020610526414736e-05,\n        \"min\": 0.000754599964536912,\n        \"max\": 0.0008791554559508842,\n        \"num_unique_values\": 5,\n        \"samples\": [\n          0.0008483405281650511\n        ],\n        \"semantic_type\": \"\",\n        \"description\": \"\"\n      }\n    },\n    {\n      \"column\": \"rolling_std\",\n      \"properties\": {\n        \"dtype\": \"number\",\n        \"std\": 5.853581209357057e-05,\n        \"min\": 0.007805380896406093,\n        \"max\": 0.007941746967799859,\n        \"num_unique_values\": 5,\n        \"samples\": [\n          0.007927278939678414\n        ],\n        \"semantic_type\": \"\",\n        \"description\": \"\"\n      }\n    },\n    {\n      \"column\": \"skew_day\",\n      \"properties\": {\n        \"dtype\": \"number\",\n        \"std\": 9.705148909343288,\n        \"min\": -0.37326329554796617,\n        \"max\": 21.788556585421922,\n        \"num_unique_values\": 5,\n        \"samples\": [\n          21.788556585421922\n        ],\n        \"semantic_type\": \"\",\n        \"description\": \"\"\n      }\n    },\n    {\n      \"column\": \"rolling_skew\",\n      \"properties\": {\n        \"dtype\": \"number\",\n        \"std\": 0.037865918038739975,\n        \"min\": -0.6228062372898513,\n        \"max\": -0.5376932380351369,\n        \"num_unique_values\": 5,\n        \"samples\": [\n          -0.5376932380351369\n        ],\n        \"semantic_type\": \"\",\n        \"description\": \"\"\n      }\n    },\n    {\n      \"column\": \"EOM\",\n      \"properties\": {\n        \"dtype\": \"date\",\n        \"min\": \"2024-03-28 00:00:00\",\n        \"max\": \"2024-03-28 00:00:00\",\n        \"num_unique_values\": 1,\n        \"samples\": [\n          \"2024-03-28 00:00:00\"\n        ],\n        \"semantic_type\": \"\",\n        \"description\": \"\"\n      }\n    },\n    {\n      \"column\": \"EOM_rolling_skew\",\n      \"properties\": {\n        \"dtype\": \"number\",\n        \"std\": 0.0,\n        \"min\": -0.537700917750752,\n        \"max\": -0.537700917750752,\n        \"num_unique_values\": 1,\n        \"samples\": [\n          -0.537700917750752\n        ],\n        \"semantic_type\": \"\",\n        \"description\": \"\"\n      }\n    },\n    {\n      \"column\": \"EOM_rolling_skew_lookback\",\n      \"properties\": {\n        \"dtype\": \"number\",\n        \"std\": 0.0,\n        \"min\": -0.7542847269627256,\n        \"max\": -0.7542847269627256,\n        \"num_unique_values\": 1,\n        \"samples\": [\n          -0.7542847269627256\n        ],\n        \"semantic_type\": \"\",\n        \"description\": \"\"\n      }\n    }\n  ]\n}"
            }
          },
          "metadata": {},
          "execution_count": 54
        }
      ]
    },
    {
      "cell_type": "markdown",
      "source": [
        "Plot rolling skew of GLD"
      ],
      "metadata": {
        "id": "sbKaXjgIbF3u"
      }
    },
    {
      "cell_type": "code",
      "source": [
        "plt.figure(figsize=(8,2))\n",
        "alldatacommodities_df[alldatacommodities_df[\"Ticker\"] == \"GLD\"].rolling_skew.plot()\n",
        "plt.show()"
      ],
      "metadata": {
        "colab": {
          "base_uri": "https://localhost:8080/",
          "height": 214
        },
        "id": "jhcui-9yQvmw",
        "outputId": "219a6165-e0a3-470c-c6d1-43f2ac8526bc"
      },
      "execution_count": null,
      "outputs": [
        {
          "output_type": "display_data",
          "data": {
            "text/plain": [
              "<Figure size 800x200 with 1 Axes>"
            ],
            "image/png": "[encoded data removed]"
          },
          "metadata": {}
        }
      ]
    },
    {
      "cell_type": "markdown",
      "source": [
        "Assign a weight to each ETF in the asset class based on their skew"
      ],
      "metadata": {
        "id": "KtFmWomZbKAs"
      }
    },
    {
      "cell_type": "code",
      "source": [
        "commodities = [\"GLD\", \"SLV\", \"GSG\", \"USO\", \"PPLT\", \"UNG\", \"DBA\"]\n",
        "alldatacommodities_df['SkewWeightRaw']=alldatacommodities_df.groupby('Date')['EOM_rolling_skew_lookback'].rank(ascending=False)-(len(commodities)+1)/2\n",
        "alldatacommodities_df['SkewWeight']=alldatacommodities_df['SkewWeightRaw']/np.sum(np.arange(1, alldatacommodities_df['SkewWeightRaw'].max()+0.1, 1))"
      ],
      "metadata": {
        "id": "wTg5wJ7ZQzEx"
      },
      "execution_count": null,
      "outputs": []
    },
    {
      "cell_type": "markdown",
      "source": [
        "Plot skew weight of GLD"
      ],
      "metadata": {
        "id": "ljUED_JZbV5Q"
      }
    },
    {
      "cell_type": "code",
      "source": [
        "plt.figure(figsize=(8,2))\n",
        "alldatacommodities_df[alldatacommodities_df[\"Ticker\"] == \"GLD\"].plot(x='Date', y='SkewWeight')\n",
        "plt.show()"
      ],
      "metadata": {
        "colab": {
          "base_uri": "https://localhost:8080/",
          "height": 440
        },
        "id": "oQA-g9ghQ23E",
        "outputId": "dbddce38-a061-4b88-d179-1714bc44654c"
      },
      "execution_count": null,
      "outputs": [
        {
          "output_type": "display_data",
          "data": {
            "text/plain": [
              "<Figure size 800x200 with 0 Axes>"
            ]
          },
          "metadata": {}
        },
        {
          "output_type": "display_data",
          "data": {
            "text/plain": [
              "<Figure size 640x480 with 1 Axes>"
            ],
            "image/png": "[encoded data removed]"
          },
          "metadata": {}
        }
      ]
    },
    {
      "cell_type": "markdown",
      "source": [
        "Calculate the returns of the skew portfolio and of the market consisting out of the commodity ETFs"
      ],
      "metadata": {
        "id": "7lT023pXbblF"
      }
    },
    {
      "cell_type": "code",
      "source": [
        "alldatacommodities_df['WeightxLogret']=(alldatacommodities_df['SkewWeight']*alldatacommodities_df['ret'])\n",
        "alldatacommodities_df = alldatacommodities_df[alldatacommodities_df[\"Date\"] >= \"2018-01-01\"]\n",
        "groupings = alldatacommodities_df.groupby(['Ticker'],group_keys=False)['WeightxLogret'].cumsum()\n",
        "alldatacommodities_df['ReturnIndividual'] = groupings.transform(lambda x: x)\n",
        "groupings = alldatacommodities_df.groupby(['Date'],group_keys=False)['ReturnIndividual'].sum()\n",
        "alldatacommodities_df['PortfolioReturn'] = groupings.transform(lambda x: x)\n",
        "alldatacommodities_df.tail(50)\n",
        "groupings = alldatacommodities_df.groupby(['Date'],group_keys=False)['ReturnIndividual'].sum()\n",
        "PortfolioReturnsCommodities = groupings.transform(lambda x: x)\n",
        "PortfolioReturnsCommodities.plot()\n",
        "\n",
        "groupings = alldatacommodities_df.groupby(['Ticker'],group_keys=False)['ret'].cumsum()\n",
        "alldatacommodities_df['MarketReturnIndividual'] = groupings.transform(lambda x: x)\n",
        "\n",
        "groupings = alldatacommodities_df.groupby(['Date'],group_keys=False)['MarketReturnIndividual'].sum()\n",
        "MarketReturnsCommodities = groupings.transform(lambda x: x)\n",
        "MarketReturnsCommodities = MarketReturnsCommodities/len(commodities)\n",
        "MarketReturnsCommodities.plot()\n",
        "\n",
        "plt.gca().legend(('Skew Portfolio','Market'))\n",
        "plt.show"
      ],
      "metadata": {
        "colab": {
          "base_uri": "https://localhost:8080/",
          "height": 806
        },
        "id": "knEOoW5YQ4KT",
        "outputId": "d251b40c-85b9-447b-fc53-451867999373"
      },
      "execution_count": null,
      "outputs": [
        {
          "output_type": "stream",
          "name": "stderr",
          "text": [
            "<ipython-input-58-d0155b3a514d>:4: SettingWithCopyWarning: \n",
            "A value is trying to be set on a copy of a slice from a DataFrame.\n",
            "Try using .loc[row_indexer,col_indexer] = value instead\n",
            "\n",
            "See the caveats in the documentation: https://pandas.pydata.org/pandas-docs/stable/user_guide/indexing.html#returning-a-view-versus-a-copy\n",
            "  alldatacommodities_df['ReturnIndividual'] = groupings.transform(lambda x: x)\n",
            "<ipython-input-58-d0155b3a514d>:6: SettingWithCopyWarning: \n",
            "A value is trying to be set on a copy of a slice from a DataFrame.\n",
            "Try using .loc[row_indexer,col_indexer] = value instead\n",
            "\n",
            "See the caveats in the documentation: https://pandas.pydata.org/pandas-docs/stable/user_guide/indexing.html#returning-a-view-versus-a-copy\n",
            "  alldatacommodities_df['PortfolioReturn'] = groupings.transform(lambda x: x)\n"
          ]
        },
        {
          "output_type": "execute_result",
          "data": {
            "text/plain": [
              "<function matplotlib.pyplot.show(close=None, block=None)>"
            ],
            "text/html": [
              "<div style=\"max-width:800px; border: 1px solid var(--colab-border-color);\"><style>\n",
              "      pre.function-repr-contents {\n",
              "        overflow-x: auto;\n",
              "        padding: 8px 12px;\n",
              "        max-height: 500px;\n",
              "      }\n",
              "\n",
              "      pre.function-repr-contents.function-repr-contents-collapsed {\n",
              "        cursor: pointer;\n",
              "        max-height: 100px;\n",
              "      }\n",
              "    </style>\n",
              "    <pre style=\"white-space: initial; background:\n",
              "         var(--colab-secondary-surface-color); padding: 8px 12px;\n",
              "         border-bottom: 1px solid var(--colab-border-color);\"><b>matplotlib.pyplot.show</b><br/>def show(*args, **kwargs)</pre><pre class=\"function-repr-contents function-repr-contents-collapsed\" style=\"\"><a class=\"filepath\" style=\"display:none\" href=\"#\">/usr/local/lib/python3.10/dist-packages/matplotlib/pyplot.py</a>Display all open figures.\n",
              "\n",
              "Parameters\n",
              "----------\n",
              "block : bool, optional\n",
              "    Whether to wait for all figures to be closed before returning.\n",
              "\n",
              "    If `True` block and run the GUI main loop until all figure windows\n",
              "    are closed.\n",
              "\n",
              "    If `False` ensure that all figure windows are displayed and return\n",
              "    immediately.  In this case, you are responsible for ensuring\n",
              "    that the event loop is running to have responsive figures.\n",
              "\n",
              "    Defaults to True in non-interactive mode and to False in interactive\n",
              "    mode (see `.pyplot.isinteractive`).\n",
              "\n",
              "See Also\n",
              "--------\n",
              "ion : Enable interactive mode, which shows / updates the figure after\n",
              "      every plotting command, so that calling ``show()`` is not necessary.\n",
              "ioff : Disable interactive mode.\n",
              "savefig : Save the figure to an image file instead of showing it on screen.\n",
              "\n",
              "Notes\n",
              "-----\n",
              "**Saving figures to file and showing a window at the same time**\n",
              "\n",
              "If you want an image file as well as a user interface window, use\n",
              "`.pyplot.savefig` before `.pyplot.show`. At the end of (a blocking)\n",
              "``show()`` the figure is closed and thus unregistered from pyplot. Calling\n",
              "`.pyplot.savefig` afterwards would save a new and thus empty figure. This\n",
              "limitation of command order does not apply if the show is non-blocking or\n",
              "if you keep a reference to the figure and use `.Figure.savefig`.\n",
              "\n",
              "**Auto-show in jupyter notebooks**\n",
              "\n",
              "The jupyter backends (activated via ``%matplotlib inline``,\n",
              "``%matplotlib notebook``, or ``%matplotlib widget``), call ``show()`` at\n",
              "the end of every cell by default. Thus, you usually don&#x27;t have to call it\n",
              "explicitly there.</pre>\n",
              "      <script>\n",
              "      if (google.colab.kernel.accessAllowed && google.colab.files && google.colab.files.view) {\n",
              "        for (const element of document.querySelectorAll('.filepath')) {\n",
              "          element.style.display = 'block'\n",
              "          element.onclick = (event) => {\n",
              "            event.preventDefault();\n",
              "            event.stopPropagation();\n",
              "            google.colab.files.view(element.textContent, 401);\n",
              "          };\n",
              "        }\n",
              "      }\n",
              "      for (const element of document.querySelectorAll('.function-repr-contents')) {\n",
              "        element.onclick = (event) => {\n",
              "          event.preventDefault();\n",
              "          event.stopPropagation();\n",
              "          element.classList.toggle('function-repr-contents-collapsed');\n",
              "        };\n",
              "      }\n",
              "      </script>\n",
              "      </div>"
            ]
          },
          "metadata": {},
          "execution_count": 58
        },
        {
          "output_type": "display_data",
          "data": {
            "text/plain": [
              "<Figure size 640x480 with 1 Axes>"
            ],
            "image/png": "[encoded data removed]"
          },
          "metadata": {}
        }
      ]
    },
    {
      "cell_type": "markdown",
      "source": [
        "Can see that skew portfolio outperforms the market during the testing period"
      ],
      "metadata": {
        "id": "HoBryAt8bpPL"
      }
    },
    {
      "cell_type": "markdown",
      "source": [
        "Perform OLS regression to determine alpha and market beta (and their respective p values)."
      ],
      "metadata": {
        "id": "MLEBlzEzby7T"
      }
    },
    {
      "cell_type": "code",
      "source": [
        "MarketReturnsCommodities1 = sm.add_constant(MarketReturnsCommodities)\n",
        "\n",
        "result = sm.OLS(PortfolioReturnsCommodities, MarketReturnsCommodities1).fit()\n",
        "\n",
        "# printing the summary table\n",
        "print(result.summary())\n",
        "result.params"
      ],
      "metadata": {
        "colab": {
          "base_uri": "https://localhost:8080/"
        },
        "id": "TILhRh75SMDa",
        "outputId": "1267c40e-ba58-42f0-85d2-5ea06f1a9b02"
      },
      "execution_count": null,
      "outputs": [
        {
          "output_type": "stream",
          "name": "stdout",
          "text": [
            "                            OLS Regression Results                            \n",
            "==============================================================================\n",
            "Dep. Variable:       ReturnIndividual   R-squared:                       0.001\n",
            "Model:                            OLS   Adj. R-squared:                 -0.000\n",
            "Method:                 Least Squares   F-statistic:                    0.8679\n",
            "Date:                Thu, 23 May 2024   Prob (F-statistic):              0.352\n",
            "Time:                        21:37:59   Log-Likelihood:                -726.59\n",
            "No. Observations:                1570   AIC:                             1457.\n",
            "Df Residuals:                    1568   BIC:                             1468.\n",
            "Df Model:                           1                                         \n",
            "Covariance Type:            nonrobust                                         \n",
            "==========================================================================================\n",
            "                             coef    std err          t      P>|t|      [0.025      0.975]\n",
            "------------------------------------------------------------------------------------------\n",
            "const                      0.6194      0.011     55.586      0.000       0.598       0.641\n",
            "MarketReturnIndividual     0.0749      0.080      0.932      0.352      -0.083       0.233\n",
            "==============================================================================\n",
            "Omnibus:                     9222.891   Durbin-Watson:                   0.003\n",
            "Prob(Omnibus):                  0.000   Jarque-Bera (JB):              136.206\n",
            "Skew:                          -0.278   Prob(JB):                     2.65e-30\n",
            "Kurtosis:                       1.668   Cond. No.                         8.32\n",
            "==============================================================================\n",
            "\n",
            "Notes:\n",
            "[1] Standard Errors assume that the covariance matrix of the errors is correctly specified.\n"
          ]
        },
        {
          "output_type": "execute_result",
          "data": {
            "text/plain": [
              "const                     0.619366\n",
              "MarketReturnIndividual    0.074890\n",
              "dtype: float64"
            ]
          },
          "metadata": {},
          "execution_count": 59
        }
      ]
    },
    {
      "cell_type": "code",
      "source": [
        "linregress(MarketReturnsCommodities,PortfolioReturnsCommodities)"
      ],
      "metadata": {
        "colab": {
          "base_uri": "https://localhost:8080/"
        },
        "id": "FAM3ULYOS4cd",
        "outputId": "bba9d5e5-b082-4fa3-8d99-c3d139f91d43"
      },
      "execution_count": null,
      "outputs": [
        {
          "output_type": "execute_result",
          "data": {
            "text/plain": [
              "LinregressResult(slope=0.07488976611078871, intercept=0.6193664390096213, rvalue=0.023519989023177576, pvalue=0.3516857861382099, stderr=0.0803881757735674, intercept_stderr=0.011142394715860414)"
            ]
          },
          "metadata": {},
          "execution_count": 60
        }
      ]
    },
    {
      "cell_type": "markdown",
      "source": [
        "# Repeat process for Equity ETFs"
      ],
      "metadata": {
        "id": "wSwW95H3cIBs"
      }
    },
    {
      "cell_type": "code",
      "source": [
        "equity = [\"SPY\", \"EWU\", \"EWJ\", \"INDA\", \"EWG\", \"EWL\", \"EWP\", \"EWQ\",\n",
        "                        \"VTI\", \"FXI\", \"EWZ\", \"EWY\", \"EWA\", \"EWC\", \"EWG\",\n",
        "                        \"EWH\", \"EWI\", \"EWN\", \"EWD\", \"EWT\", \"EZA\", \"EWW\", \"ENOR\", \"EDEN\", \"TUR\"]\n",
        "\n",
        "alldataequity  = []\n",
        "for j in equity:\n",
        "  individualdf =  get_data(j,startdate,enddate)\n",
        "  individualdf\n",
        "  individualdf = individualdf.drop(columns=['Open','High','Low','Adj Close','Volume'])\n",
        "  individualdf['pct_change'] = individualdf.Close.pct_change()\n",
        "  individualdf['ret'] = np.log(individualdf.Close) - np.log(individualdf.Close.shift(1))\n",
        "  individualdf['rolling_mean'] = individualdf.ret.rolling(256).mean()\n",
        "  individualdf['rolling_std'] = individualdf.ret.rolling(256).std()\n",
        "  individualdf['skew_day'] = ((individualdf.ret-individualdf.rolling_mean)/individualdf.rolling_std)**3\n",
        "  individualdf['rolling_skew'] = individualdf.skew_day.rolling(256).mean()\n",
        "  individualdf = individualdf.reset_index()\n",
        "  groupings = individualdf.groupby([individualdf.Date.dt.year, individualdf.Date.dt.month],group_keys=False)['Date']\n",
        "  individualdf.groupby([individualdf.Date.dt.year, individualdf.Date.dt.month],group_keys=False).max()\n",
        "  individualdf['EOM'] = groupings.transform(lambda x: x.max())\n",
        "  individualdf['EOM_rolling_skew'] = groupings.transform(lambda x: individualdf[individualdf[\"Date\"] == x.max()].rolling_skew)\n",
        "  individualdf['EOM_rolling_skew_lookback'] = individualdf.EOM_rolling_skew.shift(1)\n",
        "  groupings = individualdf.groupby([individualdf.Date.dt.year, individualdf.Date.dt.month],group_keys=False)['EOM_rolling_skew']\n",
        "  individualdf['EOM_rolling_skew'] = groupings.transform(lambda x: x.max())\n",
        "  groupings = individualdf.groupby([individualdf.Date.dt.year, individualdf.Date.dt.month],group_keys=False)['EOM_rolling_skew_lookback']\n",
        "  individualdf['EOM_rolling_skew_lookback'] = groupings.transform(lambda x: x.max())\n",
        "\n",
        "  alldataequity.append(individualdf)\n",
        "\n",
        "#alldataequity\n",
        "\n",
        "alldataequity_df = pd.concat(alldataequity)\n",
        "\n",
        "alldataequity_df['SkewWeightRaw']=alldataequity_df.groupby('Date')['EOM_rolling_skew_lookback'].rank(ascending=False)-(len(equity)+1)/2\n",
        "alldataequity_df['SkewWeight']=alldataequity_df['SkewWeightRaw']/np.sum(np.arange(1, alldataequity_df['SkewWeightRaw'].max()+0.1, 1))\n",
        "\n",
        "alldataequity_df['WeightxLogret']=(alldataequity_df['SkewWeight']*alldataequity_df['ret'])\n",
        "alldataequity_df = alldataequity_df[alldataequity_df[\"Date\"] >= \"2018-01-01\"]\n",
        "groupings = alldataequity_df.groupby(['Ticker'],group_keys=False)['WeightxLogret'].cumsum()\n",
        "alldataequity_df['ReturnIndividual'] = groupings.transform(lambda x: x)\n",
        "groupings = alldataequity_df.groupby(['Date'],group_keys=False)['ReturnIndividual'].sum()\n",
        "alldataequity_df['PortfolioReturn'] = groupings.transform(lambda x: x)\n",
        "alldataequity_df.tail(50)\n",
        "groupings = alldataequity_df.groupby(['Date'],group_keys=False)['ReturnIndividual'].sum()\n",
        "PortfolioReturnsEquity = groupings.transform(lambda x: x)\n",
        "PortfolioReturnsEquity.plot()\n",
        "\n",
        "groupings = alldataequity_df.groupby(['Ticker'],group_keys=False)['ret'].cumsum()\n",
        "alldataequity_df['MarketReturnIndividual'] = groupings.transform(lambda x: x)\n",
        "\n",
        "groupings = alldataequity_df.groupby(['Date'],group_keys=False)['MarketReturnIndividual'].sum()\n",
        "MarketReturnsEquity = groupings.transform(lambda x: x)\n",
        "MarketReturnsEquity = MarketReturnsEquity/len(equity)\n",
        "MarketReturnsEquity.plot()\n",
        "\n",
        "plt.gca().legend(('Skew Portfolio','Market'))\n",
        "plt.show"
      ],
      "metadata": {
        "colab": {
          "base_uri": "https://localhost:8080/",
          "height": 1000
        },
        "id": "fyWIVXI5S8wi",
        "outputId": "57bfd347-125e-4bbd-9363-a8580f7951dc"
      },
      "execution_count": null,
      "outputs": [
        {
          "output_type": "stream",
          "name": "stderr",
          "text": [
            "[*********************100%%**********************]  1 of 1 completed\n",
            "[*********************100%%**********************]  1 of 1 completed\n",
            "[*********************100%%**********************]  1 of 1 completed\n",
            "[*********************100%%**********************]  1 of 1 completed\n",
            "[*********************100%%**********************]  1 of 1 completed\n",
            "[*********************100%%**********************]  1 of 1 completed\n",
            "[*********************100%%**********************]  1 of 1 completed\n",
            "[*********************100%%**********************]  1 of 1 completed\n",
            "[*********************100%%**********************]  1 of 1 completed\n",
            "[*********************100%%**********************]  1 of 1 completed\n",
            "[*********************100%%**********************]  1 of 1 completed\n",
            "[*********************100%%**********************]  1 of 1 completed\n",
            "[*********************100%%**********************]  1 of 1 completed\n",
            "[*********************100%%**********************]  1 of 1 completed\n",
            "[*********************100%%**********************]  1 of 1 completed\n",
            "[*********************100%%**********************]  1 of 1 completed\n",
            "[*********************100%%**********************]  1 of 1 completed\n",
            "[*********************100%%**********************]  1 of 1 completed\n",
            "[*********************100%%**********************]  1 of 1 completed\n",
            "[*********************100%%**********************]  1 of 1 completed\n",
            "[*********************100%%**********************]  1 of 1 completed\n",
            "[*********************100%%**********************]  1 of 1 completed\n",
            "[*********************100%%**********************]  1 of 1 completed\n",
            "[*********************100%%**********************]  1 of 1 completed\n",
            "[*********************100%%**********************]  1 of 1 completed\n"
          ]
        },
        {
          "output_type": "execute_result",
          "data": {
            "text/plain": [
              "<function matplotlib.pyplot.show(close=None, block=None)>"
            ],
            "text/html": [
              "<div style=\"max-width:800px; border: 1px solid var(--colab-border-color);\"><style>\n",
              "      pre.function-repr-contents {\n",
              "        overflow-x: auto;\n",
              "        padding: 8px 12px;\n",
              "        max-height: 500px;\n",
              "      }\n",
              "\n",
              "      pre.function-repr-contents.function-repr-contents-collapsed {\n",
              "        cursor: pointer;\n",
              "        max-height: 100px;\n",
              "      }\n",
              "    </style>\n",
              "    <pre style=\"white-space: initial; background:\n",
              "         var(--colab-secondary-surface-color); padding: 8px 12px;\n",
              "         border-bottom: 1px solid var(--colab-border-color);\"><b>matplotlib.pyplot.show</b><br/>def show(*args, **kwargs)</pre><pre class=\"function-repr-contents function-repr-contents-collapsed\" style=\"\"><a class=\"filepath\" style=\"display:none\" href=\"#\">/usr/local/lib/python3.10/dist-packages/matplotlib/pyplot.py</a>Display all open figures.\n",
              "\n",
              "Parameters\n",
              "----------\n",
              "block : bool, optional\n",
              "    Whether to wait for all figures to be closed before returning.\n",
              "\n",
              "    If `True` block and run the GUI main loop until all figure windows\n",
              "    are closed.\n",
              "\n",
              "    If `False` ensure that all figure windows are displayed and return\n",
              "    immediately.  In this case, you are responsible for ensuring\n",
              "    that the event loop is running to have responsive figures.\n",
              "\n",
              "    Defaults to True in non-interactive mode and to False in interactive\n",
              "    mode (see `.pyplot.isinteractive`).\n",
              "\n",
              "See Also\n",
              "--------\n",
              "ion : Enable interactive mode, which shows / updates the figure after\n",
              "      every plotting command, so that calling ``show()`` is not necessary.\n",
              "ioff : Disable interactive mode.\n",
              "savefig : Save the figure to an image file instead of showing it on screen.\n",
              "\n",
              "Notes\n",
              "-----\n",
              "**Saving figures to file and showing a window at the same time**\n",
              "\n",
              "If you want an image file as well as a user interface window, use\n",
              "`.pyplot.savefig` before `.pyplot.show`. At the end of (a blocking)\n",
              "``show()`` the figure is closed and thus unregistered from pyplot. Calling\n",
              "`.pyplot.savefig` afterwards would save a new and thus empty figure. This\n",
              "limitation of command order does not apply if the show is non-blocking or\n",
              "if you keep a reference to the figure and use `.Figure.savefig`.\n",
              "\n",
              "**Auto-show in jupyter notebooks**\n",
              "\n",
              "The jupyter backends (activated via ``%matplotlib inline``,\n",
              "``%matplotlib notebook``, or ``%matplotlib widget``), call ``show()`` at\n",
              "the end of every cell by default. Thus, you usually don&#x27;t have to call it\n",
              "explicitly there.</pre>\n",
              "      <script>\n",
              "      if (google.colab.kernel.accessAllowed && google.colab.files && google.colab.files.view) {\n",
              "        for (const element of document.querySelectorAll('.filepath')) {\n",
              "          element.style.display = 'block'\n",
              "          element.onclick = (event) => {\n",
              "            event.preventDefault();\n",
              "            event.stopPropagation();\n",
              "            google.colab.files.view(element.textContent, 401);\n",
              "          };\n",
              "        }\n",
              "      }\n",
              "      for (const element of document.querySelectorAll('.function-repr-contents')) {\n",
              "        element.onclick = (event) => {\n",
              "          event.preventDefault();\n",
              "          event.stopPropagation();\n",
              "          element.classList.toggle('function-repr-contents-collapsed');\n",
              "        };\n",
              "      }\n",
              "      </script>\n",
              "      </div>"
            ]
          },
          "metadata": {},
          "execution_count": 61
        },
        {
          "output_type": "display_data",
          "data": {
            "text/plain": [
              "<Figure size 640x480 with 1 Axes>"
            ],
            "image/png": "[encoded data removed]"
          },
          "metadata": {}
        }
      ]
    },
    {
      "cell_type": "code",
      "source": [
        "MarketReturnsEquity1 = sm.add_constant(MarketReturnsEquity)\n",
        "\n",
        "result = sm.OLS(PortfolioReturnsEquity, MarketReturnsEquity1).fit()\n",
        "\n",
        "# printing the summary table\n",
        "print(result.summary())\n",
        "result.params"
      ],
      "metadata": {
        "colab": {
          "base_uri": "https://localhost:8080/"
        },
        "id": "NoeHVmN0U8Rl",
        "outputId": "d19513eb-5b03-47fd-d710-2834013f2e9a"
      },
      "execution_count": null,
      "outputs": [
        {
          "output_type": "stream",
          "name": "stdout",
          "text": [
            "                            OLS Regression Results                            \n",
            "==============================================================================\n",
            "Dep. Variable:       ReturnIndividual   R-squared:                       0.057\n",
            "Model:                            OLS   Adj. R-squared:                  0.057\n",
            "Method:                 Least Squares   F-statistic:                     95.00\n",
            "Date:                Thu, 23 May 2024   Prob (F-statistic):           7.82e-22\n",
            "Time:                        21:38:23   Log-Likelihood:                 1485.6\n",
            "No. Observations:                1570   AIC:                            -2967.\n",
            "Df Residuals:                    1568   BIC:                            -2956.\n",
            "Df Model:                           1                                         \n",
            "Covariance Type:            nonrobust                                         \n",
            "==========================================================================================\n",
            "                             coef    std err          t      P>|t|      [0.025      0.975]\n",
            "------------------------------------------------------------------------------------------\n",
            "const                      0.2691      0.003    107.189      0.000       0.264       0.274\n",
            "MarketReturnIndividual     0.2262      0.023      9.747      0.000       0.181       0.272\n",
            "==============================================================================\n",
            "Omnibus:                       85.562   Durbin-Watson:                   0.005\n",
            "Prob(Omnibus):                  0.000   Jarque-Bera (JB):               98.898\n",
            "Skew:                          -0.613   Prob(JB):                     3.35e-22\n",
            "Kurtosis:                       3.084   Cond. No.                         9.79\n",
            "==============================================================================\n",
            "\n",
            "Notes:\n",
            "[1] Standard Errors assume that the covariance matrix of the errors is correctly specified.\n"
          ]
        },
        {
          "output_type": "execute_result",
          "data": {
            "text/plain": [
              "const                     0.269098\n",
              "MarketReturnIndividual    0.226160\n",
              "dtype: float64"
            ]
          },
          "metadata": {},
          "execution_count": 62
        }
      ]
    },
    {
      "cell_type": "code",
      "source": [
        "linregress(MarketReturnsEquity,PortfolioReturnsEquity)"
      ],
      "metadata": {
        "colab": {
          "base_uri": "https://localhost:8080/"
        },
        "id": "8oXK61PKU997",
        "outputId": "21324e27-8c53-4c23-d48f-3fac66d67f13"
      },
      "execution_count": null,
      "outputs": [
        {
          "output_type": "execute_result",
          "data": {
            "text/plain": [
              "LinregressResult(slope=0.22616040262392453, intercept=0.26909838683521675, rvalue=0.23901080538747735, pvalue=7.81517219279385e-22, stderr=0.023203462476002936, intercept_stderr=0.0025105150412339113)"
            ]
          },
          "metadata": {},
          "execution_count": 63
        }
      ]
    },
    {
      "cell_type": "markdown",
      "source": [
        "# Repeat process for fixed income ETFs"
      ],
      "metadata": {
        "id": "Q_ZSp8o2cNg0"
      }
    },
    {
      "cell_type": "code",
      "source": [
        "FI = [\"AGG\", \"TLT\", \"LQD\", \"JNK\", \"MUB\", \"MBB\", \"IGOV\", \"EMB\", \"BND\", \"BNDX\", \"VCIT\", \"VCSH\", \"BSV\", \"SRLN\"]\n",
        "\n",
        "alldataFI  = []\n",
        "for j in FI:\n",
        "  individualdf =  get_data(j,startdate,enddate)\n",
        "  individualdf\n",
        "  individualdf = individualdf.drop(columns=['Open','High','Low','Adj Close','Volume'])\n",
        "  individualdf['pct_change'] = individualdf.Close.pct_change()\n",
        "  individualdf['ret'] = np.log(individualdf.Close) - np.log(individualdf.Close.shift(1))\n",
        "  individualdf['rolling_mean'] = individualdf.ret.rolling(256).mean()\n",
        "  individualdf['rolling_std'] = individualdf.ret.rolling(256).std()\n",
        "  individualdf['skew_day'] = ((individualdf.ret-individualdf.rolling_mean)/individualdf.rolling_std)**3\n",
        "  individualdf['rolling_skew'] = individualdf.skew_day.rolling(256).mean()\n",
        "  individualdf = individualdf.reset_index()\n",
        "  groupings = individualdf.groupby([individualdf.Date.dt.year, individualdf.Date.dt.month],group_keys=False)['Date']\n",
        "  individualdf.groupby([individualdf.Date.dt.year, individualdf.Date.dt.month],group_keys=False).max()\n",
        "  individualdf['EOM'] = groupings.transform(lambda x: x.max())\n",
        "  individualdf['EOM_rolling_skew'] = groupings.transform(lambda x: individualdf[individualdf[\"Date\"] == x.max()].rolling_skew)\n",
        "  individualdf['EOM_rolling_skew_lookback'] = individualdf.EOM_rolling_skew.shift(1)\n",
        "  groupings = individualdf.groupby([individualdf.Date.dt.year, individualdf.Date.dt.month],group_keys=False)['EOM_rolling_skew']\n",
        "  individualdf['EOM_rolling_skew'] = groupings.transform(lambda x: x.max())\n",
        "  groupings = individualdf.groupby([individualdf.Date.dt.year, individualdf.Date.dt.month],group_keys=False)['EOM_rolling_skew_lookback']\n",
        "  individualdf['EOM_rolling_skew_lookback'] = groupings.transform(lambda x: x.max())\n",
        "\n",
        "  alldataFI.append(individualdf)\n",
        "\n",
        "#alldataFI\n",
        "\n",
        "alldataFI_df = pd.concat(alldataFI)\n",
        "\n",
        "alldataFI_df['SkewWeightRaw']=alldataFI_df.groupby('Date')['EOM_rolling_skew_lookback'].rank(ascending=False)-(len(FI)+1)/2\n",
        "alldataFI_df['SkewWeight']=alldataFI_df['SkewWeightRaw']/np.sum(np.arange(1, alldataFI_df['SkewWeightRaw'].max()+0.1, 1))\n",
        "\n",
        "alldataFI_df['WeightxLogret']=(alldataFI_df['SkewWeight']*alldataFI_df['ret'])\n",
        "alldataFI_df = alldataFI_df[alldataFI_df[\"Date\"] >= \"2018-01-01\"]\n",
        "groupings = alldataFI_df.groupby(['Ticker'],group_keys=False)['WeightxLogret'].cumsum()\n",
        "alldataFI_df['ReturnIndividual'] = groupings.transform(lambda x: x)\n",
        "groupings = alldataFI_df.groupby(['Date'],group_keys=False)['ReturnIndividual'].sum()\n",
        "alldataFI_df['PortfolioReturn'] = groupings.transform(lambda x: x)\n",
        "alldataFI_df.tail(50)\n",
        "groupings = alldataFI_df.groupby(['Date'],group_keys=False)['ReturnIndividual'].sum()\n",
        "PortfolioReturnsFI = groupings.transform(lambda x: x)\n",
        "PortfolioReturnsFI.plot()\n",
        "\n",
        "groupings = alldataFI_df.groupby(['Ticker'],group_keys=False)['ret'].cumsum()\n",
        "alldataFI_df['MarketReturnIndividual'] = groupings.transform(lambda x: x)\n",
        "\n",
        "groupings = alldataFI_df.groupby(['Date'],group_keys=False)['MarketReturnIndividual'].sum()\n",
        "MarketReturnsFI = groupings.transform(lambda x: x)\n",
        "MarketReturnsFI = MarketReturnsFI/len(FI)\n",
        "MarketReturnsFI.plot()\n",
        "\n",
        "plt.gca().legend(('Skew Portfolio','Market'))\n",
        "plt.show"
      ],
      "metadata": {
        "colab": {
          "base_uri": "https://localhost:8080/",
          "height": 842
        },
        "id": "eMBGG9vEVJ5q",
        "outputId": "b2171dbb-e151-4bff-a40f-deb45331b291"
      },
      "execution_count": null,
      "outputs": [
        {
          "output_type": "stream",
          "name": "stderr",
          "text": [
            "[*********************100%%**********************]  1 of 1 completed\n",
            "[*********************100%%**********************]  1 of 1 completed\n",
            "[*********************100%%**********************]  1 of 1 completed\n",
            "[*********************100%%**********************]  1 of 1 completed\n",
            "[*********************100%%**********************]  1 of 1 completed\n",
            "[*********************100%%**********************]  1 of 1 completed\n",
            "[*********************100%%**********************]  1 of 1 completed\n",
            "[*********************100%%**********************]  1 of 1 completed\n",
            "[*********************100%%**********************]  1 of 1 completed\n",
            "[*********************100%%**********************]  1 of 1 completed\n",
            "[*********************100%%**********************]  1 of 1 completed\n",
            "[*********************100%%**********************]  1 of 1 completed\n",
            "[*********************100%%**********************]  1 of 1 completed\n",
            "[*********************100%%**********************]  1 of 1 completed\n"
          ]
        },
        {
          "output_type": "execute_result",
          "data": {
            "text/plain": [
              "<function matplotlib.pyplot.show(close=None, block=None)>"
            ],
            "text/html": [
              "<div style=\"max-width:800px; border: 1px solid var(--colab-border-color);\"><style>\n",
              "      pre.function-repr-contents {\n",
              "        overflow-x: auto;\n",
              "        padding: 8px 12px;\n",
              "        max-height: 500px;\n",
              "      }\n",
              "\n",
              "      pre.function-repr-contents.function-repr-contents-collapsed {\n",
              "        cursor: pointer;\n",
              "        max-height: 100px;\n",
              "      }\n",
              "    </style>\n",
              "    <pre style=\"white-space: initial; background:\n",
              "         var(--colab-secondary-surface-color); padding: 8px 12px;\n",
              "         border-bottom: 1px solid var(--colab-border-color);\"><b>matplotlib.pyplot.show</b><br/>def show(*args, **kwargs)</pre><pre class=\"function-repr-contents function-repr-contents-collapsed\" style=\"\"><a class=\"filepath\" style=\"display:none\" href=\"#\">/usr/local/lib/python3.10/dist-packages/matplotlib/pyplot.py</a>Display all open figures.\n",
              "\n",
              "Parameters\n",
              "----------\n",
              "block : bool, optional\n",
              "    Whether to wait for all figures to be closed before returning.\n",
              "\n",
              "    If `True` block and run the GUI main loop until all figure windows\n",
              "    are closed.\n",
              "\n",
              "    If `False` ensure that all figure windows are displayed and return\n",
              "    immediately.  In this case, you are responsible for ensuring\n",
              "    that the event loop is running to have responsive figures.\n",
              "\n",
              "    Defaults to True in non-interactive mode and to False in interactive\n",
              "    mode (see `.pyplot.isinteractive`).\n",
              "\n",
              "See Also\n",
              "--------\n",
              "ion : Enable interactive mode, which shows / updates the figure after\n",
              "      every plotting command, so that calling ``show()`` is not necessary.\n",
              "ioff : Disable interactive mode.\n",
              "savefig : Save the figure to an image file instead of showing it on screen.\n",
              "\n",
              "Notes\n",
              "-----\n",
              "**Saving figures to file and showing a window at the same time**\n",
              "\n",
              "If you want an image file as well as a user interface window, use\n",
              "`.pyplot.savefig` before `.pyplot.show`. At the end of (a blocking)\n",
              "``show()`` the figure is closed and thus unregistered from pyplot. Calling\n",
              "`.pyplot.savefig` afterwards would save a new and thus empty figure. This\n",
              "limitation of command order does not apply if the show is non-blocking or\n",
              "if you keep a reference to the figure and use `.Figure.savefig`.\n",
              "\n",
              "**Auto-show in jupyter notebooks**\n",
              "\n",
              "The jupyter backends (activated via ``%matplotlib inline``,\n",
              "``%matplotlib notebook``, or ``%matplotlib widget``), call ``show()`` at\n",
              "the end of every cell by default. Thus, you usually don&#x27;t have to call it\n",
              "explicitly there.</pre>\n",
              "      <script>\n",
              "      if (google.colab.kernel.accessAllowed && google.colab.files && google.colab.files.view) {\n",
              "        for (const element of document.querySelectorAll('.filepath')) {\n",
              "          element.style.display = 'block'\n",
              "          element.onclick = (event) => {\n",
              "            event.preventDefault();\n",
              "            event.stopPropagation();\n",
              "            google.colab.files.view(element.textContent, 401);\n",
              "          };\n",
              "        }\n",
              "      }\n",
              "      for (const element of document.querySelectorAll('.function-repr-contents')) {\n",
              "        element.onclick = (event) => {\n",
              "          event.preventDefault();\n",
              "          event.stopPropagation();\n",
              "          element.classList.toggle('function-repr-contents-collapsed');\n",
              "        };\n",
              "      }\n",
              "      </script>\n",
              "      </div>"
            ]
          },
          "metadata": {},
          "execution_count": 64
        },
        {
          "output_type": "display_data",
          "data": {
            "text/plain": [
              "<Figure size 640x480 with 1 Axes>"
            ],
            "image/png": "[encoded data removed]"
          },
          "metadata": {}
        }
      ]
    },
    {
      "cell_type": "code",
      "source": [
        "MarketReturnsFI1 = sm.add_constant(MarketReturnsFI)\n",
        "\n",
        "result = sm.OLS(PortfolioReturnsFI, MarketReturnsFI1).fit()\n",
        "\n",
        "# printing the summary table\n",
        "print(result.summary())\n",
        "result.params"
      ],
      "metadata": {
        "colab": {
          "base_uri": "https://localhost:8080/"
        },
        "id": "_R-K-gYkV2k-",
        "outputId": "f8c5da01-fbfb-4429-c5c3-177c53e1620a"
      },
      "execution_count": null,
      "outputs": [
        {
          "output_type": "stream",
          "name": "stdout",
          "text": [
            "                            OLS Regression Results                            \n",
            "==============================================================================\n",
            "Dep. Variable:       ReturnIndividual   R-squared:                       0.846\n",
            "Model:                            OLS   Adj. R-squared:                  0.846\n",
            "Method:                 Least Squares   F-statistic:                     8596.\n",
            "Date:                Thu, 23 May 2024   Prob (F-statistic):               0.00\n",
            "Time:                        21:38:28   Log-Likelihood:                 3295.5\n",
            "No. Observations:                1570   AIC:                            -6587.\n",
            "Df Residuals:                    1568   BIC:                            -6576.\n",
            "Df Model:                           1                                         \n",
            "Covariance Type:            nonrobust                                         \n",
            "==========================================================================================\n",
            "                             coef    std err          t      P>|t|      [0.025      0.975]\n",
            "------------------------------------------------------------------------------------------\n",
            "const                      0.0105      0.001     12.867      0.000       0.009       0.012\n",
            "MarketReturnIndividual    -0.9312      0.010    -92.714      0.000      -0.951      -0.912\n",
            "==============================================================================\n",
            "Omnibus:                      407.671   Durbin-Watson:                   0.025\n",
            "Prob(Omnibus):                  0.000   Jarque-Bera (JB):             1231.767\n",
            "Skew:                          -1.304   Prob(JB):                    3.35e-268\n",
            "Kurtosis:                       6.468   Cond. No.                         13.4\n",
            "==============================================================================\n",
            "\n",
            "Notes:\n",
            "[1] Standard Errors assume that the covariance matrix of the errors is correctly specified.\n"
          ]
        },
        {
          "output_type": "execute_result",
          "data": {
            "text/plain": [
              "const                     0.010537\n",
              "MarketReturnIndividual   -0.931231\n",
              "dtype: float64"
            ]
          },
          "metadata": {},
          "execution_count": 65
        }
      ]
    },
    {
      "cell_type": "code",
      "source": [
        "linregress(MarketReturnsFI,PortfolioReturnsFI)"
      ],
      "metadata": {
        "colab": {
          "base_uri": "https://localhost:8080/"
        },
        "id": "cqeU4XlLV7RT",
        "outputId": "a0158ab1-7551-4091-b59c-ba29ade7338d"
      },
      "execution_count": null,
      "outputs": [
        {
          "output_type": "execute_result",
          "data": {
            "text/plain": [
              "LinregressResult(slope=-0.9312311393755575, intercept=0.010536975976605373, rvalue=-0.9196346741533906, pvalue=0.0, stderr=0.010044140312317765, intercept_stderr=0.0008189060526586914)"
            ]
          },
          "metadata": {},
          "execution_count": 66
        }
      ]
    },
    {
      "cell_type": "markdown",
      "source": [
        "# Global Skewness Factor Portfolio\n",
        "\n",
        "Skew portfolios from different assets have low correlation (check) => combine them into one diverse portfolio.\n",
        "\n",
        "Scale each asset class skew portfolio to have a full sample\n",
        "volatility of 10% and combine them all on an equal-weight basis."
      ],
      "metadata": {
        "id": "L5EUdLXMc059"
      }
    },
    {
      "cell_type": "code",
      "source": [
        "ReturnsFI_df = PortfolioReturnsFI.to_frame()\n",
        "ReturnsFI_df[\"MarketReturnIndividual\"] = MarketReturnsFI\n",
        "ReturnsFI_df[\"Asset\"] = \"FI\"\n",
        "\n",
        "ReturnsEquity_df = PortfolioReturnsEquity.to_frame()\n",
        "ReturnsEquity_df[\"MarketReturnIndividual\"] = MarketReturnsEquity\n",
        "ReturnsEquity_df[\"Asset\"] = \"Equity\"\n",
        "\n",
        "ReturnsCommodities_df = PortfolioReturnsCommodities.to_frame()\n",
        "ReturnsCommodities_df[\"MarketReturnIndividual\"] = MarketReturnsCommodities\n",
        "ReturnsCommodities_df[\"Asset\"] = \"Commodities\"\n",
        "\n",
        "ReturnsCombined_df = ReturnsCommodities_df._append(ReturnsEquity_df, ignore_index=False)\n",
        "ReturnsCombined_df = ReturnsCombined_df._append(ReturnsFI_df, ignore_index=False)\n",
        "\n",
        "ReturnsCombined_df = ReturnsCombined_df.reset_index()\n",
        "ReturnsCombined_df\n",
        "\n",
        "\n",
        "groupings = ReturnsCombined_df.groupby(['Asset'],group_keys=False)['ReturnIndividual']\n",
        "ReturnsCombined_df['Std'] = groupings.transform(lambda x: x.rolling(256).std())\n",
        "ReturnsCombined_df['NormReturnIndividual'] = 0.1*ReturnsCombined_df.ReturnIndividual/ReturnsCombined_df.Std\n",
        "ReturnsCombined_df['NormMarketReturnIndividual'] = 0.1*ReturnsCombined_df.MarketReturnIndividual/ReturnsCombined_df.Std\n",
        "ReturnsCombined_df\n",
        "\n",
        "groupings = ReturnsCombined_df.groupby(['Date'],group_keys=False)['NormReturnIndividual'].mean()\n",
        "GSF_Portfolio = groupings.transform(lambda x: x)\n",
        "groupings = ReturnsCombined_df.groupby(['Date'],group_keys=False)['NormMarketReturnIndividual'].mean()\n",
        "GSF_Market = groupings.transform(lambda x: x)\n",
        "GSF_Portfolio.plot()\n",
        "GSF_Market.plot()\n",
        "\n",
        "plt.gca().legend(('GSF Portfolio','Market'))\n",
        "plt.show"
      ],
      "metadata": {
        "colab": {
          "base_uri": "https://localhost:8080/",
          "height": 592
        },
        "id": "SkgYan_kWEjV",
        "outputId": "2d76f705-d380-4e3a-b51a-2c074f3ab34f"
      },
      "execution_count": null,
      "outputs": [
        {
          "output_type": "execute_result",
          "data": {
            "text/plain": [
              "<function matplotlib.pyplot.show(close=None, block=None)>"
            ],
            "text/html": [
              "<div style=\"max-width:800px; border: 1px solid var(--colab-border-color);\"><style>\n",
              "      pre.function-repr-contents {\n",
              "        overflow-x: auto;\n",
              "        padding: 8px 12px;\n",
              "        max-height: 500px;\n",
              "      }\n",
              "\n",
              "      pre.function-repr-contents.function-repr-contents-collapsed {\n",
              "        cursor: pointer;\n",
              "        max-height: 100px;\n",
              "      }\n",
              "    </style>\n",
              "    <pre style=\"white-space: initial; background:\n",
              "         var(--colab-secondary-surface-color); padding: 8px 12px;\n",
              "         border-bottom: 1px solid var(--colab-border-color);\"><b>matplotlib.pyplot.show</b><br/>def show(*args, **kwargs)</pre><pre class=\"function-repr-contents function-repr-contents-collapsed\" style=\"\"><a class=\"filepath\" style=\"display:none\" href=\"#\">/usr/local/lib/python3.10/dist-packages/matplotlib/pyplot.py</a>Display all open figures.\n",
              "\n",
              "Parameters\n",
              "----------\n",
              "block : bool, optional\n",
              "    Whether to wait for all figures to be closed before returning.\n",
              "\n",
              "    If `True` block and run the GUI main loop until all figure windows\n",
              "    are closed.\n",
              "\n",
              "    If `False` ensure that all figure windows are displayed and return\n",
              "    immediately.  In this case, you are responsible for ensuring\n",
              "    that the event loop is running to have responsive figures.\n",
              "\n",
              "    Defaults to True in non-interactive mode and to False in interactive\n",
              "    mode (see `.pyplot.isinteractive`).\n",
              "\n",
              "See Also\n",
              "--------\n",
              "ion : Enable interactive mode, which shows / updates the figure after\n",
              "      every plotting command, so that calling ``show()`` is not necessary.\n",
              "ioff : Disable interactive mode.\n",
              "savefig : Save the figure to an image file instead of showing it on screen.\n",
              "\n",
              "Notes\n",
              "-----\n",
              "**Saving figures to file and showing a window at the same time**\n",
              "\n",
              "If you want an image file as well as a user interface window, use\n",
              "`.pyplot.savefig` before `.pyplot.show`. At the end of (a blocking)\n",
              "``show()`` the figure is closed and thus unregistered from pyplot. Calling\n",
              "`.pyplot.savefig` afterwards would save a new and thus empty figure. This\n",
              "limitation of command order does not apply if the show is non-blocking or\n",
              "if you keep a reference to the figure and use `.Figure.savefig`.\n",
              "\n",
              "**Auto-show in jupyter notebooks**\n",
              "\n",
              "The jupyter backends (activated via ``%matplotlib inline``,\n",
              "``%matplotlib notebook``, or ``%matplotlib widget``), call ``show()`` at\n",
              "the end of every cell by default. Thus, you usually don&#x27;t have to call it\n",
              "explicitly there.</pre>\n",
              "      <script>\n",
              "      if (google.colab.kernel.accessAllowed && google.colab.files && google.colab.files.view) {\n",
              "        for (const element of document.querySelectorAll('.filepath')) {\n",
              "          element.style.display = 'block'\n",
              "          element.onclick = (event) => {\n",
              "            event.preventDefault();\n",
              "            event.stopPropagation();\n",
              "            google.colab.files.view(element.textContent, 401);\n",
              "          };\n",
              "        }\n",
              "      }\n",
              "      for (const element of document.querySelectorAll('.function-repr-contents')) {\n",
              "        element.onclick = (event) => {\n",
              "          event.preventDefault();\n",
              "          event.stopPropagation();\n",
              "          element.classList.toggle('function-repr-contents-collapsed');\n",
              "        };\n",
              "      }\n",
              "      </script>\n",
              "      </div>"
            ]
          },
          "metadata": {},
          "execution_count": 67
        },
        {
          "output_type": "display_data",
          "data": {
            "text/plain": [
              "<Figure size 640x480 with 1 Axes>"
            ],
            "image/png": "[encoded data removed]"
          },
          "metadata": {}
        }
      ]
    },
    {
      "cell_type": "code",
      "source": [
        "GSF_Market.dropna()\n",
        "GSF_Market.dropna()\n",
        "\n",
        "GSF_Market1 = sm.add_constant(GSF_Market)\n",
        "\n",
        "result = sm.OLS(GSF_Portfolio.dropna(), GSF_Market1.dropna()).fit()\n",
        "\n",
        "# printing the summary table\n",
        "print(result.summary())\n",
        "result.params"
      ],
      "metadata": {
        "colab": {
          "base_uri": "https://localhost:8080/"
        },
        "id": "lO-oNfBiWbXG",
        "outputId": "a7785c58-ad2e-496e-ff87-e5c194dde0a2"
      },
      "execution_count": null,
      "outputs": [
        {
          "output_type": "stream",
          "name": "stdout",
          "text": [
            "                             OLS Regression Results                             \n",
            "================================================================================\n",
            "Dep. Variable:     NormReturnIndividual   R-squared:                       0.006\n",
            "Model:                              OLS   Adj. R-squared:                  0.005\n",
            "Method:                   Least Squares   F-statistic:                     7.958\n",
            "Date:                  Thu, 23 May 2024   Prob (F-statistic):            0.00486\n",
            "Time:                          21:38:29   Log-Likelihood:                 4.0825\n",
            "No. Observations:                  1315   AIC:                            -4.165\n",
            "Df Residuals:                      1313   BIC:                             6.198\n",
            "Df Model:                             1                                         \n",
            "Covariance Type:              nonrobust                                         \n",
            "==============================================================================================\n",
            "                                 coef    std err          t      P>|t|      [0.025      0.975]\n",
            "----------------------------------------------------------------------------------------------\n",
            "const                          0.5556      0.008     73.923      0.000       0.541       0.570\n",
            "NormMarketReturnIndividual    -0.1000      0.035     -2.821      0.005      -0.170      -0.030\n",
            "==============================================================================\n",
            "Omnibus:                      136.510   Durbin-Watson:                   0.003\n",
            "Prob(Omnibus):                  0.000   Jarque-Bera (JB):               50.544\n",
            "Skew:                           0.242   Prob(JB):                     1.06e-11\n",
            "Kurtosis:                       2.171   Cond. No.                         5.38\n",
            "==============================================================================\n",
            "\n",
            "Notes:\n",
            "[1] Standard Errors assume that the covariance matrix of the errors is correctly specified.\n"
          ]
        },
        {
          "output_type": "execute_result",
          "data": {
            "text/plain": [
              "const                         0.555588\n",
              "NormMarketReturnIndividual   -0.100035\n",
              "dtype: float64"
            ]
          },
          "metadata": {},
          "execution_count": 68
        }
      ]
    },
    {
      "cell_type": "markdown",
      "source": [
        "TODO: Check if skew is providing new information that is not available from Value, Momentum, and Carry Factors\n",
        "\n",
        "For equity ETFs simple to check via value/momentum/carry ETFs"
      ],
      "metadata": {
        "id": "yOjLykBmeFDg"
      }
    }
  ]
}
